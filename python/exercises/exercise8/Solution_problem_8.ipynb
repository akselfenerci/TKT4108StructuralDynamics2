{
 "cells": [
  {
   "cell_type": "markdown",
   "id": "f0567f31-d16a-4258-9598-93f966b6db72",
   "metadata": {},
   "source": [
    "# TKT4108 Structural dynamics 2\n",
    "\n",
    "## Exercise 8\n",
    "\n",
    "**Main topics:** Wind-induced response of large bridges\n",
    "\n",
    "**References:** Lecture notes\n",
    "\n",
    "**Hint**: Take a look at the examples posted on Github\n",
    "\n",
    "\n",
    "### Problem 1) Buffeting response of long-span bridges - single mode approximation\n",
    "*In this task, the objective is to obtain the response spectrum due to buffeting loads. The considered structure is  the Hardanger Bridge, which is modelled by a line-like beam representation of the box girder. The dynamic response is simplified to only consider loads from the turbulence component in the vertical direction $w(t)$, and the system is truncated to only include the first vertical mode $\\phi(x)$*.\n",
    "\n",
    "\n",
    "<figure>\n",
    "<img src=\".\\fig\\Task1_beammodel.png\" align = \"center\" style=\"width:300px\" >\n",
    "   <figcaption align=\"center\"> Beam model representation and coordinate system </figcaption>\n",
    "</figure>\n",
    "\n",
    "<figure>\n",
    "<img src=\".\\fig\\Task1_mode3a.jpg\" align = \"center\" style=\"width:300px\" >\n",
    "   <figcaption align=\"center\"> First vertical mode of the Hardanger Bridge </figcaption>\n",
    "</figure>\n",
    "\n",
    "<figure>\n",
    "<img src=\".\\fig\\Task1_mode3b.jpg\" align = \"center\" style=\"width:300px\" >\n",
    "   <figcaption align=\"center\"> First vertical mode of the Hardanger Bridge </figcaption>\n",
    "</figure>\n",
    "\n",
    "The equation of motion for the bridge is given by:\n",
    "\n",
    "$$\n",
    "\\mathbf{M}\\mathbf{\\ddot{r}}(t)+\\mathbf{C}\\mathbf{\\dot{r}}(t)+\\mathbf{K}\\mathbf{r}(t) \n",
    "= \\mathbf{Q}(t)\n",
    "\\label{eq:full_system}\n",
    "$$\n",
    "\n",
    "\n",
    "The eigenvalue problem $|\\mathbf{K}-\\omega^2\\mathbf{M}|=0$ is solved in the finite element program, from which the still-air mode shapes $\\boldsymbol{\\Phi}$ are obtained. Using these still-air modes, the system is transformed to the generalized form:\n",
    "\n",
    "$$\n",
    "\\mathbf{\\tilde{M}}\\boldsymbol{\\ddot{\\eta}}(t)+\\mathbf{\\tilde{C}}\\boldsymbol{\\dot{\\eta}}(t)+\\mathbf{\\tilde{K}}\\boldsymbol{\\eta}(t)\n",
    "= \\mathbf{\\tilde{Q}}(t)\n",
    "\\label{eq:full_modal_system}\n",
    "$$\n",
    "\n",
    "where the physical response is approximated by the sum of all modal contributions:\n",
    "\n",
    "$$\n",
    "\\mathbf{r}(t)=\\boldsymbol{\\Phi} \\boldsymbol{\\eta}(t)\n",
    "$$\n",
    "\n",
    "The total wind load in the linearized form can be expressed as follows:\n",
    "\n",
    "$$\n",
    "\\mathbf{q}(x,t)= \\mathbf{\\bar{q}}(x)+ \\mathbf{B}_q(x) \\mathbf{v}(x,t)\n",
    "+\\mathbf{C}_{ae}(x)\\mathbf{\\dot{d}}(x,t)+\\mathbf{K}_{ae}(x)\\mathbf{d}(x,t)\n",
    "$$\n",
    "\n",
    "$\\mathbf{\\bar{q}}(x)$ is the mean (static) load and the vector $\\mathbf{d}$ contains the response of the girder along the bridge span ($x \\in [0, L]$):\n",
    "\n",
    "$$\n",
    "\\mathbf{d}(x,t)=\n",
    "\\begin{bmatrix}\n",
    "r_y(x,t) \\\\\n",
    "r_z(x,t) \\\\\n",
    "r_{\\theta}(x,t) \\\\\n",
    "\\end{bmatrix}\n",
    "$$\n",
    "\n",
    "Assuming that quasi-steady theory applies, the linearized buffeting loads due to turbulence are given by:\n",
    "\n",
    "$$\n",
    "\\mathbf{q}_b(x,t)=\n",
    "\\begin{bmatrix}\n",
    "q_D(x,t) \\\\\n",
    "q_L(x,t) \\\\  \n",
    "q_M(x,t) \\\\  \n",
    "\\end{bmatrix}\n",
    "=\n",
    "\\frac{1}{2} \\rho V\n",
    "\\begin{bmatrix}\n",
    "2D \\bar{C}_D & D C_D'-B\\bar{C}_L \\\\\n",
    "2B \\bar{C}_L & B C_L'+D\\bar{C}_D \\\\\n",
    "2B^2 \\bar{C}_M & B^2 \\bar{C}_M' \\\\\n",
    "\\end{bmatrix}\n",
    "\\begin{bmatrix}\n",
    "u(x,t)  \\\\\n",
    "w(x,t)  \\\\\n",
    "\\end{bmatrix}\n",
    "=\n",
    "\\mathbf{B}_q \\mathbf{v}(x,t)\n",
    "$$\n",
    "\n",
    "The aerodynamic damping and stiffness matrices are defined as follows:\n",
    "\n",
    "$$\n",
    "\\mathbf{C}_{ae}=\n",
    "-\\frac{1}{2} \\rho V\n",
    "\\begin{bmatrix}\n",
    "2D \\bar{C}_D & D \\bar{C}_D'-B\\bar{C}_L & 0 \\\\\n",
    "2B \\bar{C}_L & B \\bar{C}_L'+D\\bar{C}_D & 0\\\\\n",
    "2B^2 \\bar{C}_M & B^2 \\bar{C}_M'  & 0\\\\\n",
    "\\end{bmatrix}\n",
    "\\label{eq:cae}\n",
    "$$\n",
    "\n",
    "$$\n",
    "\\mathbf{K}_{ae}=\n",
    "\\frac{1}{2} \\rho V^2\n",
    "\\begin{bmatrix}\n",
    "0 & 0 & D  C_D'\\\\\n",
    "0 & 0 & B  C_L'\\\\\n",
    "0 & 0 & B^2  C_M'\\\\\n",
    "\\end{bmatrix}\n",
    "\\label{eq:kae}\n",
    "$$\n",
    "\n",
    "We are interested in the vertical response $r_z(x,t)$, which we assume only has contribution from the mode shown above. We also neglect any contribution to the vertical response from the (normal) wind turbulence $u(t)$, and also disregard the static part of the response. \n",
    "\n",
    "\n",
    "#### a) \n",
    "\n",
    "Introducing the assumptions above, show that the system physical degrees of freedom now is reduced to:\n",
    "\n",
    "$$\n",
    "\\tilde{M} \\ddot{\\eta}(t) + \\tilde{C} \\dot{\\eta}(t)  + \\tilde{K} \\eta(t) = \\tilde{Q}_L(t) + \\tilde{C}_{ae} \\dot{\\eta}(t)+ \\tilde{K}_{ae} \\eta(t)\n",
    "$$\n",
    "\n",
    "where the physical response is given by:\n",
    "$$\n",
    "r_z(x,t)  = \\phi(x)\\eta(t)\n",
    "$$\n",
    "\n",
    "and the lift buffeting force now can be approximated as follows:\n",
    "\n",
    "$$\n",
    "q_L(x,t) = \\frac{1}{2} \\rho V (B C_L'+D\\bar{C}_D) w(x,t)  \n",
    "$$\n",
    "\n",
    "and the corresponding generalized load is given as follows:\n",
    "\n",
    "$$\n",
    "\\tilde{Q}_L(t) = \\int_0^L {\\phi(x) \\: \\frac{1}{2} \\rho V (B C_L'+D\\bar{C}_D) w(x,t) \\: \\text{d}x}\n",
    "$$\n",
    "\n",
    "and the generalized aerodynamic stiffness and damping become:\n",
    "\n",
    "$$\n",
    "\\tilde{K}_{ae}= \\int_0^L \\phi(x)^2 \\:0 \\: \\text{d}x  = 0\n",
    "\\quad , \\quad\n",
    "\\tilde{C}_{ae}= -\\frac{1}{2} \\rho V \\int_0^L \\phi(x)^2 \\: (B \\bar{C}_L'+D\\bar{C}_D) \\: \\text{d}x \n",
    "$$\n"
   ]
  },
  {
   "cell_type": "markdown",
   "id": "8046b63f-ff57-42c3-a256-11c2a91f7568",
   "metadata": {},
   "source": [
    "#### Solution\n",
    "\n",
    "$$\n",
    "\\mathbf{M}\\mathbf{\\ddot{r}}+\\mathbf{C}\\mathbf{\\dot{r}}+\\mathbf{K}\\mathbf{r} \n",
    "= \\mathbf{Q}(t)\n",
    "$$\n",
    "\n",
    "The eigenvalue problem $|\\mathbf{K}-\\omega^2\\mathbf{M}|=0$  is solved in the finite element program to find the still air modes  $\\boldsymbol{\\Phi}$ and corresponding undamped natural frequencies. The equation of motion is pre-multiplied with $\\boldsymbol{\\Phi}^T$ and the relation $\\mathbf{r}=\\boldsymbol{\\Phi} \\boldsymbol{\\eta}$ is used to arrive at the generalized form:\n",
    "\n",
    "$$\n",
    "\\mathbf{\\tilde{M}}\\boldsymbol{\\ddot{\\eta}}+\\mathbf{\\tilde{C}}\\boldsymbol{\\dot{\\eta}}+\\mathbf{\\tilde{K}}\\boldsymbol{\\eta} \n",
    "= \\mathbf{\\tilde{Q}}(t)\n",
    "$$\n",
    "\n",
    "We discard all the modes except the given vertical mode. The bridge can now be modelled as a SDOF system:\n",
    "\n",
    "$$\n",
    "\\tilde{M} \\ddot{\\eta}(t) + \\tilde{C} \\dot{\\eta}(t)  + \\tilde{K} \\eta(t) = \\tilde{Q}(t)\n",
    "$$\n",
    "\n",
    "The response is in the z-direction only:\n",
    "\n",
    "$$\n",
    "r_z(x,t)  = \\phi(x)\\eta(t)\n",
    "$$\n",
    "\n",
    "The physical load can be found by picking the elements of $\\mathbf{B}_q$, $\\mathbf{C}_{ae}$, and  $\\mathbf{K}_{ae}$\n",
    "corresponding only to response in the z-direction and only considering contribution from $w(t)$.\n",
    "\n",
    "\n",
    "$$\n",
    "Q(x,t)= \\mathbf{B}_{q [2,2]}  w(x,t)  +  \\mathbf{C}_{ae [2,2]}  \\dot{r}_z(x,t) +  \\mathbf{K}_{ae [2,2]}  r_z(x,t)\n",
    "$$\n",
    "\n",
    "Integration by $\\phi(x)$  gives the generalized (total) load:\n",
    "\n",
    "$$\n",
    "\\tilde{Q}(t)=\\int_0^L Q(x,t) \\phi(x) \\: \\text{d}x \n",
    "$$\n",
    "\n",
    "The resulting integration above can be split in the three following terms:\n",
    "\n",
    "$$\n",
    "\\tilde{Q}_L(t) = \\int_0^L {\\phi(x) \\: \\frac{1}{2} \\rho V (B \\bar{C}_L'+D\\bar{C}_D) w(x,t) \\: \\text{d}x}\n",
    "$$\n",
    "\n",
    "$$\n",
    "\\tilde{K}_{ae}= \\int_0^L \\phi(x)^2 \\:0 \\: \\text{d}x  = 0\n",
    "\\quad , \\quad\n",
    "\\tilde{C}_{ae}= -\\frac{1}{2} \\rho V \\int_0^L \\phi(x)^2 \\: (B \\bar{C}_L'+D\\bar{C}_D) \\: \\text{d}x \n",
    "$$\n",
    "\n",
    "\n"
   ]
  },
  {
   "cell_type": "markdown",
   "id": "548b57c0-32eb-4d25-b8d5-0cadb9aa6f3e",
   "metadata": {},
   "source": [
    "\n",
    "#### b) \n",
    "\n",
    "The auto correlation function for the generalized load is given by:\n",
    "$$R_{ \\tilde{Q}_L }(t_1,t_2) = E \\big[ \\tilde{Q}_L(t_1) \\: \\tilde{Q}_L(t_2) \\big]\n",
    "$$\n",
    "\n",
    "By assuming that the wind field is stationary and homogeneous, show that the auto correlation function can be written as:\n",
    "$$\n",
    "R_{ \\tilde{Q}_L }(\\tau) =  (\\frac{1}{2} \\rho V (B C_L'+D\\bar{C}_D) )^2 \\int_0^L \\int_0^L \\phi(x_1) R_w(\\Delta x, \\tau) \\phi(x_2) \\: \\text{d}x_1 \\text{d}x_2\n",
    "$$\n",
    "where  $\\Delta x=|x_2-x_1|$ and $R_w(\\Delta x, \\tau)$ is the auto correlation of the vertical turbulence."
   ]
  },
  {
   "cell_type": "markdown",
   "id": "61ba0783-3e0a-425d-bdc8-1d3dd3fd282b",
   "metadata": {},
   "source": [
    "#### Solution\n",
    "\n",
    "Inserting the expression for $\\tilde{Q}_L $:\n",
    "\n",
    "$$\n",
    "\\begin{aligned}\n",
    "R_{ \\tilde{Q}_L }(t_1,t_2) &= E \\Big[ \\tilde{Q}_L(t_1) \\: \\tilde{Q}_L(t_2) \\Big] \\\\\n",
    "&= E \\Big[\n",
    "\\int_0^L \\phi(x_1) \\: \\frac{1}{2} \\rho V (B \\bar{C}_L'+D\\bar{C}_D) w(x_1,t_1) \\: \\text{d}x_1 \n",
    "\\\\ & \\quad \\quad \\quad\n",
    "\\int_0^L \\phi(x_2) \\: \\frac{1}{2} \\rho V (B \\bar{C}_L'+D\\bar{C}_D) w(x_2,t_2) \\: \\text{d}x_2\n",
    "\\Big] \\\\\n",
    "&= \n",
    "(\\frac{1}{2} \\rho V (B \\bar{C}_L'+D\\bar{C}_D))^2\n",
    "\\int_0^L \\int_0^L\n",
    "\\phi(x_1) \\phi(x_2) \n",
    "E \\Big[w(x_1,t_1) w(x_2,t_2) \\Big] \n",
    "\\text{d}x_1  \\text{d}x_2 \n",
    " \\\\\n",
    "&= \n",
    "(\\frac{1}{2} \\rho V (B \\bar{C}_L'+D\\bar{C}_D))^2\n",
    "\\int_0^L \\int_0^L\n",
    "\\phi(x_1) \\phi(x_2) \n",
    "R_w( \\Delta x, \\tau) \n",
    "\\text{d}x_1  \\text{d}x_2 \n",
    "\\end{aligned}\n",
    "$$\n",
    "\n",
    "The last line follows from the given wind field assumptions. The wind field is stationary, which means the statistical properties are not dependent on the absolute times $t_1$ and $t_2$, just the time lag $\\tau=t_2-t_1$. Since the wind field also is homogeneous, the  wind field statistical properties are equal in all points in space. Thus the autocorrelation does not depend on the absolute position of $x_1$ and $x_2$, just the distance between them $\\Delta x =x_2-x_1$. "
   ]
  },
  {
   "cell_type": "markdown",
   "id": "dfce2577-3c2a-47da-97d8-09fc999cd06a",
   "metadata": {},
   "source": [
    "#### c)\n",
    "\n",
    "The spectral density of $\\tilde{Q}_L$ is the Fourier transform of $R_{ \\tilde{Q}_L }(\\tau) $: \n",
    "$$\n",
    "S_{ \\tilde{Q}_L }(\\omega) = \\frac{1}{2 \\pi}\n",
    "\\int_{-\\infty}^{\\infty} {R_{ \\tilde{Q}_L }(\\tau) e^{-i \\omega \\tau} \\: \\text{d} \\tau}\n",
    "$$\n",
    "\n",
    "Show that $S_{ \\tilde{Q}_L }(\\omega)$ relates to  $S_{w_1 w_2}(\\Delta x, \\omega) $ through the following double integral:\n",
    "\n",
    "$$\n",
    "S_{ \\tilde{Q}_L }(\\omega) = (\\frac{1}{2} \\rho V (B \\bar{C}_L'+D\\bar{C}_D) )^2 \\int_0^L \\int_0^L \\phi(x_1) S_{w_1 w_2}(\\Delta x, \\omega)  \\phi(x_2) \\: \\text{d}x_1 \\text{d}x_2\n",
    "$$\n",
    "\n",
    "Here, $S_{w_1 w_2}(\\Delta x, \\omega) $ is the cross-spectral density of the vertical wind turbulence $w_1(t)$ and $w_2(t)$ at two points $x_1$ and $x_2$ along the bridge span."
   ]
  },
  {
   "cell_type": "markdown",
   "id": "0c0d7840-4d2c-4228-ad2d-fde853aee58f",
   "metadata": {},
   "source": [
    "#### Solution\n",
    "Inserting the obtained expression for $R_{ \\tilde{Q}_L }(\\tau)$:\n",
    "\n",
    "\\begin{equation}\n",
    "\\begin{aligned}\n",
    "S_{ \\tilde{Q}_L }(\\omega) &= \\frac{1}{2 \\pi} \\int_{-\\infty}^{\\infty} {R_{ \\tilde{Q}_L }(\\tau) e^{-i \\omega \\tau} \\: \\text{d} \\tau} \\\\\n",
    "&= (\\frac{1}{2} \\rho V (B \\bar{C}_L'+D\\bar{C}_D))^2 \n",
    "\\int_0^L \\int_0^L\n",
    "\\phi(x_1) \\phi(x_2) \n",
    "\\Big(\n",
    "\\frac{1}{2 \\pi} \\int_{-\\infty}^{\\infty} \n",
    "R_w(\\Delta x, \\tau ) \n",
    " e^{-i \\omega \\tau} \\: \\text{d} \\tau\n",
    "\\Big)\n",
    " \\text{d}x_1  \\text{d}x_2  \\\\\n",
    "&= (\\frac{1}{2} \\rho V (B \\bar{C}_L'+D\\bar{C}_D))^2 \n",
    "\\int_0^L \\int_0^L\n",
    "\\phi(x_1) \\phi(x_2) \n",
    "S_{w_1 w_2}(\\Delta x, \\omega)\n",
    "\\: \\text{d}x_1  \\text{d}x_2  \\\\\n",
    "\\end{aligned}\n",
    "\\end{equation}\n"
   ]
  },
  {
   "cell_type": "markdown",
   "id": "fdd91a29-2fcd-4623-8962-7159205583a1",
   "metadata": {},
   "source": [
    "#### d)\n",
    "\n",
    "What is the frequency response function $\\tilde{H}(\\omega)$ for the system in normal (modal) coordinates?\n"
   ]
  },
  {
   "cell_type": "markdown",
   "id": "89d1f9fb-3bd4-4082-907c-3e10b120a025",
   "metadata": {},
   "source": [
    "#### Solution\n",
    "$$ \\tilde{H}(\\omega) =[ -\\omega^2 \\tilde{M} + i\\omega ( \\tilde{C} - \\tilde{C}_{ae} ) + \\tilde{K}- \\tilde{K}_{ae} ]^{-1} $$"
   ]
  },
  {
   "cell_type": "markdown",
   "id": "34ed4f84-20da-4ec0-b3b9-dab8dd32c691",
   "metadata": {},
   "source": [
    "#### e)\n",
    "\n",
    "The physical response spectrum at a given position $x=x_r$ can be obtained by:\n",
    "\n",
    "$$\n",
    "S_{r_z}(\\omega) \\big|_{x=x_r}  = \\phi(x_r) S_{\\eta}(\\omega)   \\phi(x_r) \n",
    "= \\phi(x_r)  \\tilde{H}^*(\\omega) S_{ \\tilde{Q}_L }(\\omega) \\tilde{H}(\\omega)  \\phi(x_r) \n",
    "$$\n",
    "\n",
    "\n",
    "The following values for the structural properties and wind field parameters can be applied: \n",
    "\n",
    "| Explanation | Symbol | Value | Unit |\n",
    "| ---: |  :---: | :---: |  :---: |\n",
    "| Width | $B$ | $18.3$ | m |\n",
    "| Height | $D$ | $3.2$ | m |\n",
    "| Lift coefficient slope | $C_L'$ | $2.50$ | 1/rad |\n",
    "| Drag coefficient mean | $\\bar{C}_D$ | $0.70$ | - |\n",
    "| Bridge length | $L$ | $1308$ | m |\n",
    "| Air density |  $\\rho $ | $1.25$ | kg/m^3 |\n",
    "| Mean wind speed |  $V$ | $25$ | m/s |\n",
    "| Turbulence intensity | $$I_w=\\sigma_w/V$$ | $0.08$ | - |\n",
    "| Turbulence length scale | $$~^x L_w(z)$$ | $\\frac{162}{12}$ | m |\n",
    "\n",
    "\n",
    "The vertical mode from the finite element model has the shape $\\phi(x)= \\sin \\big( \\cfrac{2 \\pi x}{L} \\big)$ and  the following modal properties:\n",
    "\n",
    "$$\n",
    "\\begin{aligned}\n",
    "\\tilde{M} &= 8.5173 \\times 10^6 \\text{ kg} &\\: \\tilde{C} &= 2 \\xi \\omega_n \\tilde{M} &\\: \\tilde{K} &= \\omega_n^2 \\tilde{M}  \\\\\n",
    "\\omega_n &= 0.708 \\text{ rad/s} &\\: \\xi &= 1.2 \\%    \\\\\n",
    "\\end{aligned}\n",
    "$$\n",
    "\n",
    "According to *N400 Design of bridges*, the following *single-point auto spectrum* for $w(t)$ can be used: \n",
    "\n",
    "$$\n",
    "S_{w}(\\omega)=\\cfrac{1}{2\\pi} \\: \\cfrac{\\sigma_w^2 \\:\\: ^x L_w(z)}{ V} \\:  \\cfrac{A_w }{(1+1.5 A_w \\hat{\\omega}_w)^{5/3}} \\quad , \\quad\n",
    "\\hat{\\omega}_w=\\cfrac{\\omega \\:\\: ^x L_w(z)}{ 2 \\pi V} \\quad , \\quad A_w=9.4\n",
    "$$\n",
    "\n",
    "The cross-spectral density of the vertical wind turbulence in two given points $x_1$ and $x_2$ is given by:\n",
    "\n",
    "$$S_{w_1 w_2}(\\Delta x, \\omega) = \\sqrt{S_{w_1}(\\omega) S_{w_2}(\\omega)} \\exp  \\big(-C_{wy} \\frac{\\omega |\\Delta x| }{2 \\pi V} \\big) \n",
    "\\quad , \\quad\n",
    "C_{wy}=6.5\n",
    "$$\n",
    "\n",
    "Use the equations you have derived in this exercise to numerically calculate the response spectrum in the quarter point of the span, $S_{r_z}(\\omega) \\big|_{x=L/4}$. Plot this spectral density for $\\omega \\in (0,3] \\text{ rad/s}$. \n",
    "\n",
    "Find the corresponding standard deviation $\\sigma_{r_z}\\big|_{x=L/4}$ by numerical integration of the spectrum.\n",
    "\n",
    "#### Solution\n",
    "\n",
    "We start be defining the mode shape\n"
   ]
  },
  {
   "cell_type": "code",
   "execution_count": 9,
   "id": "b33cb97f-d250-43be-b1d9-c1f0831a5192",
   "metadata": {},
   "outputs": [
    {
     "data": {
      "text/plain": [
       "Text(0.5, 1.0, 'Mode shape')"
      ]
     },
     "execution_count": 9,
     "metadata": {},
     "output_type": "execute_result"
    },
    {
     "data": {
      "image/png": "[encoded data removed]",
      "text/plain": [
       "<Figure size 432x288 with 1 Axes>"
      ]
     },
     "metadata": {
      "needs_background": "light"
     },
     "output_type": "display_data"
    }
   ],
   "source": [
    "import numpy as np\n",
    "from matplotlib import pyplot as plt\n",
    "\n",
    "# Mode shape\n",
    "L = 1308\n",
    "x = np.arange(0,L,5)\n",
    "phi = np.sin(2*np.pi*x/L)\n",
    "\n",
    "plt.figure()\n",
    "plt.plot(x,phi)\n",
    "plt.grid()\n",
    "plt.ylabel(\"$\\phi$\")\n",
    "plt.title(\"Mode shape\")\n"
   ]
  },
  {
   "cell_type": "markdown",
   "id": "911697e2-e105-4652-822b-113b82d5d619",
   "metadata": {},
   "source": [
    "The second step is to calculate the auto-spectral density of the buffeting load\n"
   ]
  },
  {
   "cell_type": "code",
   "execution_count": 10,
   "id": "2357e264-0c9d-4f67-addf-eeb481df48a3",
   "metadata": {},
   "outputs": [
    {
     "data": {
      "image/png": "[encoded data removed]",
      "text/plain": [
       "<Figure size 432x288 with 1 Axes>"
      ]
     },
     "metadata": {
      "needs_background": "light"
     },
     "output_type": "display_data"
    }
   ],
   "source": [
    "rho = 1.25\n",
    "V = 25\n",
    "Iw = 0.08\n",
    "B = 18.3\n",
    "D = 3.2\n",
    "CL_prime = 2.50\n",
    "CD_bar = 0.70;\n",
    "xLw = 162/12;\n",
    "Aw = 9.4/2/np.pi\n",
    "Cwy = 6.5/2/np.pi\n",
    "\n",
    "Ctot = 0.5*rho*V*(B*CL_prime+D*CD_bar)\n",
    "\n",
    "omegan = 0.708;\n",
    "xi = 2.8/100;\n",
    "M_modal = 8.5173e6;\n",
    "C_modal = M_modal*2*xi*omegan;\n",
    "K_modal = M_modal*omegan**2;\n",
    "\n",
    "\n",
    "w = np.linspace(0.001,3,1000) # fine frequency axis, for final response spectrum\n",
    "w_load = np.logspace(-3,1,100) # crude frequency axis, for faster integration of loads\n",
    "\n",
    "Sw = (Iw*V)**2*Aw*xLw/V/((1+1.5*Aw*w_load*xLw/V)**(5.0/3.0))\n",
    "\n",
    "\n",
    "# Auto-spectral density of load\n",
    "SQ_red = np.zeros(w_load.shape[0])\n",
    "SQ = np.zeros(w.shape[0])\n",
    "dxdx = np.abs(np.array([x])-np.array([x]).T) # All possible combinations of distances\n",
    "for k in range(w_load.shape[0]):\n",
    "    Sww = Sw[k]*np.exp(-Cwy*w_load[k]*dxdx/V)\n",
    "    phiphi = np.array([phi]).T @ np.array([phi])\n",
    "    Int = Ctot**2*Sww*phiphi            \n",
    "    SQ_red[k]=np.trapz(np.trapz(Int,x),x)\n",
    "SQ = np.interp(w,w_load,SQ_red)\n",
    "\n",
    "plt.figure()\n",
    "plt.plot(w,SQ)\n",
    "plt.grid()\n",
    "plt.ylabel(\"$S_Q(\\omega)$\")\n",
    "plt.xlabel(\"$\\omega$\");\n",
    "\n"
   ]
  },
  {
   "cell_type": "markdown",
   "id": "934900ed-0f4d-4e5e-b74b-e1fe22f78ec5",
   "metadata": {},
   "source": [
    "The third step is to calculate the frequency response function"
   ]
  },
  {
   "cell_type": "code",
   "execution_count": 11,
   "id": "1c479821-c766-4823-8435-cae6611626ae",
   "metadata": {},
   "outputs": [
    {
     "data": {
      "text/plain": [
       "Text(0.5, 0, '$\\\\omega$')"
      ]
     },
     "execution_count": 11,
     "metadata": {},
     "output_type": "execute_result"
    },
    {
     "data": {
      "image/png": "[encoded data removed]",
      "text/plain": [
       "<Figure size 432x288 with 1 Axes>"
      ]
     },
     "metadata": {
      "needs_background": "light"
     },
     "output_type": "display_data"
    }
   ],
   "source": [
    "Kae_gen = 0\n",
    "Cae_gen = -0.5*rho*V*(B*CL_prime+D*CD_bar)*np.trapz(phi**2,x);\n",
    "H_gen=( -w**2*M_modal+1j*w*(C_modal-Cae_gen)+K_modal-Kae_gen)**-1\n",
    "\n",
    "plt.figure()\n",
    "plt.plot(w,np.abs(H_gen))\n",
    "plt.grid()\n",
    "plt.ylabel(\"$H(\\omega)$\")\n",
    "plt.xlabel(\"$\\omega$\")"
   ]
  },
  {
   "cell_type": "markdown",
   "id": "b00ab4a2-4ffe-4a66-8aa8-1112952fe58a",
   "metadata": {},
   "source": [
    "The forth step is to calculate the auto-spectral density of the response"
   ]
  },
  {
   "cell_type": "code",
   "execution_count": 12,
   "id": "cbe93441-cda1-4433-8339-775924d371b0",
   "metadata": {},
   "outputs": [
    {
     "data": {
      "image/png": "[encoded data removed]",
      "text/plain": [
       "<Figure size 432x288 with 1 Axes>"
      ]
     },
     "metadata": {
      "needs_background": "light"
     },
     "output_type": "display_data"
    }
   ],
   "source": [
    "phi_r = np.sin(2*np.pi*0.25)\n",
    "Sr = phi_r**2*np.abs(H_gen)**2*SQ\n",
    "\n",
    "plt.figure()\n",
    "plt.plot(w,Sr)\n",
    "plt.grid()\n",
    "plt.ylabel(\"$S_r(\\omega)$\")\n",
    "plt.xlabel(\"$\\omega$\")\n",
    "plt.title(\"Auto-spectral density of response quarter-span\");"
   ]
  },
  {
   "cell_type": "code",
   "execution_count": 14,
   "id": "a57d21cb-0d74-43ad-9311-8815b05d6d42",
   "metadata": {},
   "outputs": [
    {
     "name": "stdout",
     "output_type": "stream",
     "text": [
      "Vertical displacement SD at quarter span is 0.129 m\n"
     ]
    }
   ],
   "source": [
    "standard_deviation = np.trapz(Sr,w)**0.5\n",
    "\n",
    "format_f='{:.3f}'\n",
    "\n",
    "print('Vertical displacement SD at quarter span is ' + format_f.format(standard_deviation) + ' m')"
   ]
  },
  {
   "cell_type": "code",
   "execution_count": null,
   "id": "bca0b6b8-10d8-4e06-ad08-970441444ad8",
   "metadata": {},
   "outputs": [],
   "source": []
  }
 ],
 "metadata": {
  "kernelspec": {
   "display_name": "Python 3 (ipykernel)",
   "language": "python",
   "name": "python3"
  },
  "language_info": {
   "codemirror_mode": {
    "name": "ipython",
    "version": 3
   },
   "file_extension": ".py",
   "mimetype": "text/x-python",
   "name": "python",
   "nbconvert_exporter": "python",
   "pygments_lexer": "ipython3",
   "version": "3.8.3"
  }
 },
 "nbformat": 4,
 "nbformat_minor": 5
}
