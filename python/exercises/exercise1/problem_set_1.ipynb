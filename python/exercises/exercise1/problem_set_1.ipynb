{
 "cells": [
  {
   "cell_type": "markdown",
   "id": "5e3b373c-fef9-4fff-8d5c-f42dc74db8be",
   "metadata": {},
   "source": [
    "# TKT4108 Structural dynamics 2\n",
    "\n",
    "## Exercise 1\n",
    "\n",
    "**Main topics:** Introduction to random vibrations and repetition of fundamental structural dynamics\n",
    "\n",
    "**References:** Newland Chapter 1-3\n",
    "\n",
    "### Problem 1: Dynamic response of a shear frame\n",
    "\n",
    "In this problem, we will revisit some topics from TKT 4201 Structural Dynamics 1.\n",
    "The simple frame's vertical members displayed below have negligible mass and transverse stiffness $k$. The horizontal members can be modelled as rigid and with mass $M$. The frame is subjected to two random loads $X_1$ and $X_2$.\n",
    "\n",
    "\n",
    "<img src=\"frame.svg\">\n",
    "\n",
    "\n",
    "a) The frame shall be modelled using two degrees of freedom, as indicated in the figure. Obtain the equation of motion for the frame.\n",
    "\n",
    "b) Solve the eigenproblem to find the natural frequencies and the corresponding vibration modes. Draw the modes.\n",
    "\n",
    "c) Transform the system to normal coordinates\n",
    "\n",
    "d) Use Newmark integration to calculate the dynamic response of the frame when it is subjected to a stochastic load. Perform the calculations in both normal and physical coordinates. Assume that the stiffness is $k=10000$, the story mass is $M=1000$, and both damping ratios are $0.5\\%$. Further, assume that the standard deviation of the two loads is $1000 N$ and their correlation coefficient $\\rho=0.5$.\n",
    "\n",
    "**Hint**: Take a look at example_1_1\n",
    "\n",
    "e) Why is the correlation of the dynamic actions $X_1$ and $X_2$ crucial for the response? Explain how the positive and negative correlation of the two loads will influence the response of mode one and mode two. \n",
    "\n",
    "**Hint:** Study the modal load $\\mathbf{X}^*=\\mathbf{v}^T\\mathbf{X}$."
   ]
  },
  {
   "cell_type": "markdown",
   "id": "e8f9e8c5-dbc5-4227-b8e6-136c5e163114",
   "metadata": {},
   "source": [
    "### Problem 2: Technical terms\n",
    "This problem will study some basic definitions used to characterize a stochastic process.\n",
    "\n",
    "a) Explain the following terms and how they are related using text and figures\n",
    "- Probability density function.\n",
    "- Cumulative distribution function.\n",
    "- Mean value\n",
    "- Mean square value\n",
    "- Variance\n",
    "\n",
    "b) Study Figure 2.3 in Newland and explain the conditional probability\n",
    "\n",
    "$$ p(x|y) = \\frac{p(x,y)}{p(y)} $$\n",
    "\n",
    "Which requirements need to be fulfilled for x and y to be independent?\n",
    "  \n",
    "c) Explain the following two terms and how they are related.\n",
    "- Autocorrelation\n",
    "- Cross-correlation"
   ]
  },
  {
   "cell_type": "markdown",
   "id": "92e222dc-51ef-48be-a9c6-643dbede09e3",
   "metadata": {},
   "source": [
    "### Problem 3: Rayleigh distribution\n",
    "\n",
    "The cumulative Rayleigh distribution is defined as follows.\n",
    "\n",
    "$$F_x(x,\\sigma) = 1-e^{-x^{2}/(2\\sigma ^{2})} $$\n",
    "\n",
    "a) Obtain the probability density function $f_x(x)$ by taking the derivative of the cumulative distribution. Confirm that the area under the curve is unity by numerical integration in python and explain why this is essential. Assume $\\sigma = 2$ when performing the numerical integration\n",
    "\n",
    "b) Calculate the mean value of x by applying the formula $\\mu_{x} = \\int_{-\\infty}^{-\\infty} xf_x(x)dx$. Perform the calculations by numerical integration in python"
   ]
  }
 ],
 "metadata": {
  "kernelspec": {
   "display_name": "Python 3 (ipykernel)",
   "language": "python",
   "name": "python3"
  },
  "language_info": {
   "codemirror_mode": {
    "name": "ipython",
    "version": 3
   },
   "file_extension": ".py",
   "mimetype": "text/x-python",
   "name": "python",
   "nbconvert_exporter": "python",
   "pygments_lexer": "ipython3",
   "version": "3.9.12"
  },
  "toc-autonumbering": false,
  "toc-showcode": true,
  "toc-showmarkdowntxt": false,
  "toc-showtags": false
 },
 "nbformat": 4,
 "nbformat_minor": 5
}
