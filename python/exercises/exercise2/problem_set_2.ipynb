{
 "cells": [
  {
   "cell_type": "markdown",
   "id": "77aa312f-dd37-4ea5-93d8-02a2dcd05ea5",
   "metadata": {},
   "source": [
    "# TKT4108 Structural dynamics 2\n",
    "\n",
    "## Exercise 2\n",
    "\n",
    "**Main topics:** Fourier series, Fourier transforms and spectral densities\n",
    "\n",
    "**References:** Newland Chapter 4-5\n",
    "\n",
    "### Problem 1: Fourier series\n",
    "In this problem, we will obtain the Fourier approximation of the periodic function displayed in the figure below.\n",
    "\n",
    "**Hint**: Take a look at the examples posted on Github"
   ]
  },
  {
   "cell_type": "code",
   "execution_count": 24,
   "id": "5b00975c-2a21-454f-8329-50445d3d8cfe",
   "metadata": {},
   "outputs": [
    {
     "data": {
      "image/png": "[encoded data removed]",
      "text/plain": [
       "<Figure size 432x288 with 1 Axes>"
      ]
     },
     "metadata": {
      "needs_background": "light"
     },
     "output_type": "display_data"
    }
   ],
   "source": [
    "import numpy as np\n",
    "from matplotlib import pyplot as plt\n",
    "# \n",
    "dt = 0.01 # Time step\n",
    "t = np.arange(0,5,dt) # time vector\n",
    "x = t/5 # Initialize the x array\n",
    "# Plot waveform\n",
    "plt.figure()\n",
    "plt.plot(np.hstack((t-10.0,t-5.0, t, t+5.0)),np.hstack((x,x,x,x))); # Plot four periods\n",
    "plt.plot(t,x); #Plot one period\n",
    "plt.ylim(-2, 2);\n",
    "plt.xlim(-10,10);\n",
    "plt.grid();\n",
    "plt.xlabel('$t$');\n",
    "plt.ylabel('$X(t)$');"
   ]
  },
  {
   "cell_type": "markdown",
   "id": "8754d275-1eaf-45c6-a8b7-2678ffb911ff",
   "metadata": {},
   "source": [
    "a) Use the following definition of the Fourier series and obtain analytical expressions for the Fourier coefficients\n",
    "\n",
    "$$ X(t) = a_{0} +2 \\sum_{k=1}^{\\infty} \\left( a_k cos\\left(\\frac{2\\pi k}{T}t \\right) + b_k sin\\left(\\frac{2\\pi k}{T}t \\right)\\right)  $$\n",
    "\n",
    "Here $a_0$, $a_k$ and $b_k$ are Fourier coefficients given by\n",
    "\n",
    "$$a_0 = \\frac{1}{T} \\int_{0}^{T}X(t)dt$$\n",
    "\n",
    "$$a_k = \\frac{1}{T} \\int_{0}^{T}X(t)cos\\left(\\frac{2\\pi k}{T}t \\right)dt$$\n",
    "\n",
    "$$b_k = \\frac{1}{T} \\int_{0}^{T}X(t)sin\\left(\\frac{2\\pi k}{T}t \\right)dt$$\n",
    "\n",
    "b) Make a python code that plots the waveform and the corresponding Fourier approximation. Verify that your Fourier series approximation fits the target function and discuss how many terms you need to obtain a reasonable approximation of the waveform\n",
    "\n",
    "c) Also, obtain the Fourier series by numpy.fft. Discuss how these coefficients are related to the ones you found above."
   ]
  },
  {
   "cell_type": "markdown",
   "id": "abac4382-32ea-442e-807c-71173c443f3a",
   "metadata": {
    "tags": []
   },
   "source": [
    "### Problem 2: Fourier transform and inverse Fourier transform\n",
    "\n",
    "The Fourier transform of $x(t)$ and the inverse Fourier transforms are defined as\n",
    "\n",
    "$$  x(\\omega) = \\frac{1}{2\\pi} \\int_{-\\infty}^{\\infty} x(t) e^{-i\\omega t} dt $$\n",
    "\n",
    "$$  x(t) =  \\int_{-\\infty}^{\\infty} x(\\omega) e^{\\omega t} d\\omega$$\n",
    "\n",
    "a) Explain how the Fourier transform and the inverse Fourier transform are related to the Fourier series.\n",
    "\n",
    "b) Take the inverse Fourier transform of the function below using numerical integration in python\n",
    "\n",
    "  \n",
    "\n",
    "$$ x(\\omega) = \\frac{1}{-\\omega^2 m + i \\omega  c + k} $$\n",
    "\n",
    "   Discuss the symmetry of $x(\\omega)$ and how this affects $x(t)$ \n",
    "   \n",
    "   You can assume $m=1$, $c=0.1$, and $k=4$\n",
    "  \n",
    "   **Hint:** Take a look at the examples on Github "
   ]
  },
  {
   "cell_type": "markdown",
   "id": "ac4ddefc-8527-4193-8ad3-b69025aedd27",
   "metadata": {},
   "source": [
    "### Problem 3: Auto-spectral density\n",
    "\n",
    "The auto-correlation function of a stochastic process is defined as\n",
    "\n",
    "$$ R_X(\\tau) = e^{-\\alpha |\\tau|} \\cos(\\omega_0 \\tau) $$\n",
    "\n",
    "a) Obtain the auto-spectral density of the stochastic process by taking the Fourier transform of the autocorrelation function. You can evaluate the Fourier integral numerically using Python.\n",
    "\n",
    "b) The analytical Fourier transform of the autocorrelation function is given below. Compare your numerical solution to the analytical results and discuss possible reasons for any discrepancies you observe.\n",
    "\n",
    "$$ S_x(\\omega)= \\frac{1}{2\\pi}\\left(\\frac{\\alpha}{\\alpha^2 + (\\omega+\\omega_0)^2} +  \\frac{\\alpha}{\\alpha^2 + (\\omega-\\omega_0)^2} \\right) $$\n"
   ]
  },
  {
   "cell_type": "markdown",
   "id": "d66674e8-8376-40e9-bc56-c0fa27ba106b",
   "metadata": {},
   "source": [
    "### Problem 4: Monte Carlo Simulations of response\n",
    "\n",
    "a) The auto spectral density of the dynamic response of a single degree of freedom system subjected to white noise is defined as follows\n",
    "\n",
    "$$ S_y(\\omega) = |H(\\omega)|^2W_0  $$\n",
    "\n",
    "Here the frequency response function is defined by\n",
    "\n",
    "$$ H(\\omega) = \\frac{1}{-\\omega^2 m + i \\omega  c + k} $$\n",
    "\n",
    "You can assume $m=1$, $c=0.1$, $k=4$ and $W_0 = 1$\n",
    "\n",
    "a) Plot the auto-spectral density of the response\n",
    "\n",
    "b) Use the plot of the auto-spectral density to find the natural frequency of the dynamic system\n",
    "\n",
    "c) Use the auto-spectral density to calculate the variance of the response \n",
    "\n",
    "d) Use Monte-Carlo simulations to obtain realizations of the response. Make time series that is 600 seconds long and with a sufficiently small time step. Use the following expression in your simulations\n",
    "\n",
    "$$y(t) = \\sum_{n=1}^{N}  A_k cos (\\omega_kt + \\phi_k) $$\n",
    "\n",
    "$$A_k = \\sqrt{2 S_y(\\omega_k) \\Delta \\omega} $$\n",
    "\n",
    "Here $S_y(\\omega_k)$ is the auto-spectral density of the process, and $\\phi_k$ is random phase angles evenly distributed between $0$ and $2\\pi$\n",
    "\n"
   ]
  }
 ],
 "metadata": {
  "kernelspec": {
   "display_name": "Python 3 (ipykernel)",
   "language": "python",
   "name": "python3"
  },
  "language_info": {
   "codemirror_mode": {
    "name": "ipython",
    "version": 3
   },
   "file_extension": ".py",
   "mimetype": "text/x-python",
   "name": "python",
   "nbconvert_exporter": "python",
   "pygments_lexer": "ipython3",
   "version": "3.9.12"
  }
 },
 "nbformat": 4,
 "nbformat_minor": 5
}
