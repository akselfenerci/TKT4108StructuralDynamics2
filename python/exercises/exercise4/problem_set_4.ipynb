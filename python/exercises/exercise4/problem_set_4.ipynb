{
 "cells": [
  {
   "cell_type": "markdown",
   "id": "d536aa15-2667-4c33-8d2b-b6d300b6ceb1",
   "metadata": {},
   "source": [
    "# TKT4108 Structural dynamics 2\n",
    "\n",
    "## Exercise 4\n",
    "\n",
    "**Main topics:** Transmission of random variables, extreme response\n",
    "\n",
    "**References:** Newland Chapter 6-7\n",
    "\n",
    "**Hint**: Take a look at the examples posted on Github"
   ]
  },
  {
   "cell_type": "markdown",
   "id": "069f0c3b-6e03-490f-b2e4-3cb2ef5e9cdd",
   "metadata": {},
   "source": [
    "### Problem 1: Transmission of random variables \n",
    "\n",
    "In this problem, we will consider the glulam truss displayed below. The truss carries the roof of an industrial building, and there is production equipment used in the factory that is hanging down from the truss introducing a stochastic dynamic excitation. In this problem, we will asses the vibrations and the load effects caused by the two stochastic loads\n",
    "\n",
    "<img src=\"truss.svg\" width=100%>\n",
    "\n",
    "\n",
    "\n",
    "The truss spans 14m, and the distance between the horizontal members is 1m from the centre to the centre of the two beams. The members have dimensions of 200x200mm. Assume a density of the material of $\\rho=2000 k/m^3$. The density is higher than the glulaminated timber since we have included mass from structural components that do not provide stiffness to the truss (the roof, secondary beams that supports the roof, and other installations)  \n",
    "\n",
    "\n",
    "\n",
    "\n",
    "We will model the structure using bar elements with four degrees of freedom. The mass and stiffness matrix of the bar element in local coordinates are\n",
    "\n",
    "$$ \\mathbf{k} = \\frac{EA}{L} \\left[ \\begin{array}{cccc} 1 & 0 & -1 & 0 \\\\ 0 & 0 & 0 & 0 \\\\  -1 & 0 & 1 & 0 \\\\  0 & 0 & 0 & 0       \\end{array} \\right] $$\n",
    "\n",
    "\n",
    "$$ \\mathbf{m} = \\frac{\\rho A L}{6} \\left[ \\begin{array}{cccc} 2 & 0 & 1 & 0 \\\\ 0 & 2 & 0 & 1 \\\\  1 & 0 & 2 & 0 \\\\  0 & 1 & 0 & 2       \\end{array} \\right] $$\n",
    "\n",
    "\n",
    "a) Make a python script that creates the truss's mass and stiffness matrices and calculate the structure's natural frequencies and mode shapes. Plot the first two vibration modes\n",
    "\n",
    "c) Obtain a Rayleigh damping matrix that provides 0.5 % damping in the first and second vibration modes.\n",
    "\n",
    "b) The two loads are not correlated, and the following expressions define their auto spectral density. Use Monte Carlo simulations to generate realizations of the two loads\n",
    "\n",
    "$$ S_x(\\omega)= \\frac{10 000}{\\pi}\\left(\\frac{\\alpha}{\\alpha^2 + (\\omega-\\omega_0)^2} \\right) $$\n",
    "\n",
    "Assume $\\alpha = 10$ and $\\omega_0=10\\pi$\n",
    "\n",
    "c) Use Newmark integration to obtain the dynamic response of the truss. Plot time series of the axial force in the two diagonals in the middle of the truss. Also, calculate the standard deviation and the correlation coefficient of the axial force in the two diagonals. Are the results as expected? Please explain\n",
    "\n",
    "d) Compute the auto- and cross-spectral density of the axial forces in the two diagonals. Perform the calculations in the frequency domain and compare your results to the ones obtained in the time domain. Try to make the calculations for several realizations of the loads and observe how the results change, and describe your observations. \n"
   ]
  },
  {
   "cell_type": "markdown",
   "id": "ca3caedd-ebcb-4284-971a-9d351a207589",
   "metadata": {},
   "source": [
    "### Problem 2: Response statistics\n",
    "\n",
    "In this problem we will consider the single degree of freedom system shown below. The system consists of a rigid beam with distributed mass $m$ kg/m, a point mass $M=mL$, a spring with stiffness $k$ and a dashpot damper with damping coefficient $c$. \n",
    "\n",
    "The system is simply supported in one end as shown in the figure and is subjected to a stochastic load $x(t)$ defined by the spectral density \n",
    "\n",
    "$$ S_x(\\omega) = \\frac{2000\\alpha}{2\\pi\\left(\\alpha^2 + \\omega^2\\right)}  $$\n",
    "\n",
    "Assume $\\alpha$=1\n",
    "\n",
    "<img src=\"rod.svg\">\n",
    "\n",
    "a) Obtain the equation of motion for the system. The distributed mass, $m$ is 100 kg/m, the length $L$ is 3m and the natural frequency $f_n$ is 1 Hz and the damping ratio, $\\xi$ is 0.2. \n",
    "\n",
    "b) Plot the spectral density of the stochastic load and calculate its variance\n",
    "\n",
    "c) Calculate the auto-spectral density of the response\n",
    "\n",
    "d) Obtain the probability density function for the spring force\n",
    "\n",
    "e) Obtain the Rayleigh distribution of all peaks of the spring force\n",
    "\n",
    "f) Obtain the Gumbel distribution of the largest spring force for a time period of 24 hours\n"
   ]
  }
 ],
 "metadata": {
  "kernelspec": {
   "display_name": "Python 3 (ipykernel)",
   "language": "python",
   "name": "python3"
  },
  "language_info": {
   "codemirror_mode": {
    "name": "ipython",
    "version": 3
   },
   "file_extension": ".py",
   "mimetype": "text/x-python",
   "name": "python",
   "nbconvert_exporter": "python",
   "pygments_lexer": "ipython3",
   "version": "3.9.12"
  }
 },
 "nbformat": 4,
 "nbformat_minor": 5
}
