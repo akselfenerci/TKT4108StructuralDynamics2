{
 "cells": [
  {
   "cell_type": "markdown",
   "id": "82ff4f4d-a754-427b-834e-31a96c63ab62",
   "metadata": {},
   "source": [
    "# TKT4108 Structural dynamics 2\n",
    "\n",
    "## Exercise 3\n",
    "\n",
    "**Main topics:** Frequency response method, impulse response method and transmission of random variables\n",
    "\n",
    "**References:** Newland Chapter 6-7\n",
    "\n",
    "**Hint**: Take a look at the examples posted on Github"
   ]
  },
  {
   "cell_type": "markdown",
   "id": "6a80d3cf-f008-479a-be77-1cb9decd639c",
   "metadata": {},
   "source": [
    "\n",
    "### Problem 1: Impulse response and frequency response methods\n",
    "\n",
    "Consider a single degree of freedom system defined by the differential equation \n",
    "\n",
    "$$ m \\ddot{y} + c \\dot{y} + k y = x(t)  $$\n",
    "\n",
    "assume that the mass is 100 kg, that the frequency is 1 Hz and the damping ratio 5% and that the standard deviation of the load is 1000 N.\n",
    "\n",
    "a) Use the equation above to derive the impulse response method (Duhamel integral)\n",
    "\n",
    " $$y(t) = \\int_{-\\infty}^{\\infty} h(t-\\tau) x(\\tau) d\\tau $$\n",
    "\n",
    "b) Explain what white noise is and its properties. **Hint:** (Mean value, variance, probability density function, auto-correlation function, auto-spectral density)\n",
    "\n",
    "c) Make a python script that solves the dynamic response by the impulse response method and solve the dynamic reponse of the system when it is excited by white noise.\n",
    "\n",
    "d) Derive the frequency response method and make a python script that solves the dynamic response by the impulse response method using fft. \n",
    "\n",
    "e) Compare the computational speed of the impulse-response and the frequency-response methods\n"
   ]
  },
  {
   "cell_type": "markdown",
   "id": "d433cb6a-1361-494d-9154-64084e519b89",
   "metadata": {},
   "source": [
    "### Problem 2: Transmission of random vibrations\n",
    "\n",
    "Consider the multi degree of freedom system subjected to stochastic loads defined by the following equation \n",
    "\n",
    "$$ \\mathbf{M} \\ddot{\\mathbf{y}} + \\mathbf{C} \\dot{\\mathbf{y}}+ \\mathbf{K} \\mathbf{y} = \\mathbf{X}(t) $$\n",
    "\n",
    "Start by defining the cross-correlation matrix of the response and show that the cross-spectral density matrix of the response can be expressed as \n",
    "\n",
    "$$ \\mathbf{S_y}(\\omega) = \\bar{\\mathbf{H}}(\\omega) \\mathbf{S_x}(\\omega)    \\mathbf{H}^T(\\omega) $$\n",
    "\n"
   ]
  },
  {
   "cell_type": "markdown",
   "id": "ff6482ab-62ae-482f-9589-8d5cb22244f2",
   "metadata": {},
   "source": [
    "### Problem 3: A tuned mass damper\n",
    "\n",
    "The figure below shows a large mass supported by a spring and a dashpot damper. A tuned mass damper that consists of a smaller mass, a spring and a dashpot damper has been put at the top of the large mass. \n",
    "\n",
    "The properties of the dynamic system are defined as follows.\n",
    "\n",
    "$m_1 = 1000$, $m_2 = 50$, \n",
    "\n",
    "$k_1 = (2\\pi f_1)^2 m_1$,  $k_2 = (2\\pi f_2)^2$ \n",
    "\n",
    "$c_1 = 2 m_1 \\omega_1 \\zeta_1$, $c_2 = 2 m_2 \\omega_2 \\zeta_2$. \n",
    "\n",
    "The large mass is subjected to white noise $S_x(\\omega) = W_0$\n",
    "\n",
    "Assume that $f_1=5$, $f_2 = 4.9$, $\\zeta_1 = 0.5%$ and $\\zeta_2 = 5%$\n",
    "\n",
    "Also, note that the natural frequencies and damping ratios above are for the two **independent** systems.\n",
    "\n",
    "<img src=\"mass with tmd.svg\">\n",
    "\n",
    "\n",
    "a) Obtain the equations of motion for the dynamic system.\n",
    "\n",
    "b) Calculate the system's dynamic response **with** and **without** the TMD using Newmark's method, compare the standard deviations and comment on the results. Is the TMD working well or not?  \n",
    "\n",
    "c) Plot the frequency response function for the system **without** TMD and the frequency response $H_{11}(\\omega)$ for the system **with** TMD. Comment on the results.\n",
    "\n",
    "d) Use python to calculate the cross-spectral density matrix of the response using the expression from problem 2. Investigate how the auto-spectral density of the response of mass 1 depends on the stifness of the TMD.\n",
    "\n",
    "e) Plot the frequency response function of the single degree of freedom system without the TMD and $H_{11}(\\omega)$ for the system with the TMD considering the wrong spring stiffness. Discuss how these plots are related to the results you presented in problem c)\n",
    "\n",
    "f) Calculate the cross-spectral density matrix of the response using the expression from problem 2. Comment on how well the results correspond to the time domain simulations $f_2$\n"
   ]
  }
 ],
 "metadata": {
  "kernelspec": {
   "display_name": "Python 3 (ipykernel)",
   "language": "python",
   "name": "python3"
  },
  "language_info": {
   "codemirror_mode": {
    "name": "ipython",
    "version": 3
   },
   "file_extension": ".py",
   "mimetype": "text/x-python",
   "name": "python",
   "nbconvert_exporter": "python",
   "pygments_lexer": "ipython3",
   "version": "3.9.12"
  }
 },
 "nbformat": 4,
 "nbformat_minor": 5
}
