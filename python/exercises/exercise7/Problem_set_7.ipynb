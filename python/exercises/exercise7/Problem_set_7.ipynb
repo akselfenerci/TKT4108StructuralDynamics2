{
 "cells": [
  {
   "cell_type": "markdown",
   "id": "8ee649b1-07bf-4c8f-8355-f0eee0332f84",
   "metadata": {},
   "source": [
    "# TKT4108 Structural dynamics 2\n",
    "\n",
    "## Exercise 7\n",
    "\n",
    "**Main topics:** Signal processing and system identification\n",
    "\n",
    "**References:** Jupyter notebook examples \n",
    "\n",
    "### Problem 1: Auto-spectral density of wind turbulence\n",
    "\n",
    "The auto-spectral density of the horizontal along wind component u is defined as follows in N400\n",
    "\n",
    "$$\\frac{S_u(n)n}{\\sigma_u^2} = \\frac{ A_{u} \\hat{n}_u}{\\left(1+ 1.5 A_u \\hat{n}_u  \\right)^{\\frac{5}{3}}} $$\n",
    "\n",
    "$$\\hat{n}_u = \\frac{n {}^xL_u}{V} $$\n",
    "\n",
    "a) Explain what the following symbols represent\n",
    "\n",
    "$$ \\sigma_u^2 $$\n",
    "\n",
    "$$ A_{u}  $$\n",
    "\n",
    "$$\\hat{n}_u$$\n",
    "\n",
    "$$ {}^x{L_u} $$\n",
    "\n",
    "b) The expression in N400 is defined using the frequency $n$ in Hz. Show that the equivalent expression for a frequency $\\omega$ in $rad/s$ is defined by:\n",
    "\n",
    "$$\\frac{S_u(\\omega)\\omega}{\\sigma_u^2} = \\frac{ \\frac{Au}{2\\pi} \\hat{\\omega}_u}{\\left(1+ 1.5 \\frac{Au}{2\\pi} \\hat{\\omega}_u  \\right)^{\\frac{5}{3}}} $$\n",
    "\n",
    "Explain why it is necessary to ensure that the integral of the spectral density is the same for both definitions\n",
    "\n",
    "$$ \\int_{-\\infty}^{\\infty} S_u(\\omega)d\\omega = \\int_{-\\infty}^{\\infty} S_u(n)dn $$\n",
    "\n",
    "c) Plot the normalized auto-spectral density as a function of $\\hat{\\omega}_{u}$\n",
    "\n",
    "$$\\frac{S_u(\\omega)\\omega}{\\sigma_u^2} $$ \n",
    "\n",
    "Assume $A_u = 6.8$. Also, investigate how the auto-spectral density changes when $A_u$ increases and decreases by 20%.    \n",
    "\n"
   ]
  },
  {
   "cell_type": "markdown",
   "id": "55878d4f-f425-4501-bb1d-4d72b31e3348",
   "metadata": {},
   "source": [
    "### Problem 2: Co-spectral density of wind turbulence\n",
    "The co-spectral density of the horizontal turbulence component $u$ for two points with a separation of $\\Delta y$ meters is defined as\n",
    "\n",
    "$$S_{uu}(\\omega,\\Delta y) = S_u(\\omega)\\hat{Co}(\\omega, \\Delta y) $$\n",
    "\n",
    "The co-spectral density is defined as\n",
    "\n",
    "$$ \\hat{Co}(\\omega, \\Delta y) =  \\exp \\left( - C_u \\frac{ \\omega \\Delta y}{V} \\right) $$\n",
    "\n",
    "Assume that the mean wind velocity is $V=20m/s$, the turbulence intensity is $I_u = 0.15$, the integral length scale $^xL_u = 100m$ and $C_u = 1$\n",
    "\n",
    "a) Plot the co-spectral density of the turbulence components for the following separation distances $\\Delta y = \\left[0, 10, 20 ,30 ,40, 50 \\right]$\n",
    "\n",
    "b) Use the co-spectral density to calculate the covariance coefficient for the turbulence as a function of $\\Delta y$. Plot the results and explain what you see."
   ]
  },
  {
   "cell_type": "code",
   "execution_count": null,
   "id": "9fd409be-e1a2-46a9-919d-bc66f59fc871",
   "metadata": {},
   "outputs": [],
   "source": []
  }
 ],
 "metadata": {
  "kernelspec": {
   "display_name": "Python 3 (ipykernel)",
   "language": "python",
   "name": "python3"
  },
  "language_info": {
   "codemirror_mode": {
    "name": "ipython",
    "version": 3
   },
   "file_extension": ".py",
   "mimetype": "text/x-python",
   "name": "python",
   "nbconvert_exporter": "python",
   "pygments_lexer": "ipython3",
   "version": "3.9.12"
  }
 },
 "nbformat": 4,
 "nbformat_minor": 5
}
