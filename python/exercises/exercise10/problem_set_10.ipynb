{
 "cells": [
  {
   "cell_type": "markdown",
   "id": "270dec09-4455-492f-a3f4-727b7692daf2",
   "metadata": {},
   "source": [
    "# TKT4108 - Structural Dynamics 2\n",
    "## Homework 2"
   ]
  },
  {
   "attachments": {},
   "cell_type": "markdown",
   "id": "00a28f3d-6094-49e6-b676-ef4102cf0103",
   "metadata": {},
   "source": [
    "<img src=\"Shear Frame_HW2.JPG\">"
   ]
  },
  {
   "cell_type": "markdown",
   "id": "c8991258-fc13-4eb5-b1ae-9a159a5d1e33",
   "metadata": {},
   "source": [
    "### For a building in Trondheim with behavior factor q = 2, shown above, compute the following earthquake responses assuming Eurocode 8 response spectrum and ground type D:\n",
    "\n",
    "**- Maximum displacement of first floor**  \n",
    "**- Maximum base shear**  \n",
    "**- Maximum overturning moment**  \n",
    "\n",
    "**Use both Eurocode 8 procedure and theoretical method**"
   ]
  }
 ],
 "metadata": {
  "kernelspec": {
   "display_name": "Python 3 (ipykernel)",
   "language": "python",
   "name": "python3"
  },
  "language_info": {
   "codemirror_mode": {
    "name": "ipython",
    "version": 3
   },
   "file_extension": ".py",
   "mimetype": "text/x-python",
   "name": "python",
   "nbconvert_exporter": "python",
   "pygments_lexer": "ipython3",
   "version": "3.9.13"
  }
 },
 "nbformat": 4,
 "nbformat_minor": 5
}
