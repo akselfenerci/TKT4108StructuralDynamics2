{
 "cells": [
  {
   "cell_type": "markdown",
   "id": "270dec09-4455-492f-a3f4-727b7692daf2",
   "metadata": {},
   "source": [
    "# TKT4108 - Structural Dynamics 2\n",
    "## Homework 2 - Solution"
   ]
  },
  {
   "attachments": {},
   "cell_type": "markdown",
   "id": "00a28f3d-6094-49e6-b676-ef4102cf0103",
   "metadata": {},
   "source": [
    "<img src=\"Shear Frame_HW2.JPG\">"
   ]
  },
  {
   "cell_type": "markdown",
   "id": "c8991258-fc13-4eb5-b1ae-9a159a5d1e33",
   "metadata": {},
   "source": [
    "### For a building in Trondheim with behavior factor q = 2, shown above, compute the following earthquake responses assuming Eurocode 8 response spectrum and ground type D:\n",
    "\n",
    "**- Maximum displacement of first floor**  \n",
    "**- Maximum base shear**  \n",
    "**- Maximum overturning moment**  \n",
    "\n",
    "**Use both Eurocode 8 procedure and theoretical method**"
   ]
  },
  {
   "cell_type": "code",
   "execution_count": 1,
   "id": "b26f829a-7f99-4b15-9fab-c591c7aad5cd",
   "metadata": {},
   "outputs": [],
   "source": [
    "import numpy as np\n",
    "\n",
    "import scipy.linalg as linalg\n",
    "import matplotlib.pyplot as plt\n",
    "\n",
    "# Building Properties\n",
    "E_c = 40e+9     # concrete elestic modulus in Pa\n",
    "b_1 = 0.2       # cross section A-A' base and height\n",
    "b_2 = 0.3       # cross section B-B' base and height\n",
    "m_1 = 20e+3     # top storey mass in kg\n",
    "m_2 = 30e+3     # top storey mass in kg\n",
    "L_1 = 3.00      # height difference between top and first storey\n",
    "L_2 = 4.00      # height difference between first storey and foundation (clamped end)\n",
    "q = 2.0         # behaviour factor\n",
    "a_g = 0.25      # ground acceleration"
   ]
  },
  {
   "cell_type": "markdown",
   "id": "8c8dd81a-d340-4c26-8b03-4f43b74d7a5f",
   "metadata": {},
   "source": [
    "### Part 1: Modal Analysis\n",
    "**This part follows the same steps shown and explained in part one \"Modal Analysis\" of the file:**  \n",
    "$Example$ - $Earthquake$ $Analysis$ $and$ $EC8$  "
   ]
  },
  {
   "cell_type": "markdown",
   "id": "9367b9ce-002f-44bf-8ed0-2073de15dd71",
   "metadata": {},
   "source": [
    "**The first step consists on assembling the system stiffness and mass matrices.** "
   ]
  },
  {
   "cell_type": "code",
   "execution_count": 2,
   "id": "e90fbd1a-4a58-4179-b32b-a797b9050ce2",
   "metadata": {},
   "outputs": [],
   "source": [
    "# Element stifness\n",
    "I_1 = (1/12)*(b_1)**4           # cross section A-A' inertia moment\n",
    "I_2 = (1/12)*(b_2)**4           # cross section B-B' inertia moment\n",
    "k_1 = 2*12*E_c*I_1/(L_1**3)     # DOF1 stifness\n",
    "k_2 = 2*12*E_c*I_2/(L_2**3)     # DOF2 stifness\n",
    "\n",
    "# System Matices\n",
    "K = np.array([[k_1,-k_1],[-k_1,k_2+k_1]])           # stifnees matrix\n",
    "M = np.array([[m_1,0],[0,m_2]])                     # mass matrix\n",
    "T = [1,1]                                           # influence vector"
   ]
  },
  {
   "cell_type": "markdown",
   "id": "ff97d275-ca3d-46d9-a2ca-5c9b006c91bd",
   "metadata": {},
   "source": [
    "**Next, the eigenvalue solution is applied obtaining modes and mode shapes of the system**"
   ]
  },
  {
   "cell_type": "code",
   "execution_count": 3,
   "id": "d7700f5b-6a23-41aa-890a-37d9ec4e3656",
   "metadata": {},
   "outputs": [
    {
     "name": "stdout",
     "output_type": "stream",
     "text": [
      "The natural circular frequencies are\n",
      "[11.56 24.47] rad/s\n",
      "\n",
      "Then, the natural periods are\n",
      "[0.544 0.257] s\n",
      "\n",
      "With the corresponding mode shapes\n",
      "[[ 1.     1.   ]\n",
      " [ 0.437 -1.527]]\n"
     ]
    }
   ],
   "source": [
    "# Eigenvale Analysis\n",
    "lambd, phi = linalg.eig(K, b=M)   \n",
    "wn = np.sqrt(lambd.real)    # natural circular frequency\n",
    "Tn = 2*np.pi/wn             # natural period\n",
    "phi = phi/phi[0,:]          # normalizing shapes\n",
    "\n",
    "print('The natural circular frequencies are')\n",
    "print(str(np.around(wn,2)) + ' rad/s')\n",
    "print( )\n",
    "print('Then, the natural periods are')\n",
    "print(str(np.around(Tn,3)) + ' s')\n",
    "print( )\n",
    "print('With the corresponding mode shapes')\n",
    "print(np.around(phi,3))"
   ]
  },
  {
   "cell_type": "markdown",
   "id": "00b9057f-8349-47c2-b8e8-f4ff536879cb",
   "metadata": {},
   "source": [
    "**Modal properties of the system are computed**"
   ]
  },
  {
   "cell_type": "code",
   "execution_count": 4,
   "id": "5aee940e-7fc4-4e99-bc51-541fdea9415d",
   "metadata": {},
   "outputs": [
    {
     "name": "stdout",
     "output_type": "stream",
     "text": [
      "The modal masses are\n",
      "[25718. 89958.] kg\n",
      "\n",
      "The modal expansion of the spatial distribution of effective earthquake forces is\n",
      "[ 33097. -25812.] kg\n",
      "\n",
      "The modal participation factors are\n",
      "[ 1.287 -0.287]\n",
      "\n",
      "The effective modal masses are\n",
      "[42594.  7406.] kg\n",
      "\n"
     ]
    }
   ],
   "source": [
    "# Modal Properties\n",
    "L_mod = phi.T @ M @ T           # modal expansion of the spatial distribution of effective earthquake forces\n",
    "M_mod = phi.T @ M @ phi         # modal mass matrix\n",
    "M_eff = (L_mod**2) / (np.diag(M_mod))     # effective modal mas\n",
    "gamma_mod = L_mod / np.diag(M_mod)        # modal participation factor\n",
    "\n",
    "print('The modal masses are')\n",
    "print(str(np.around(np.diag(M_mod),0)) + ' kg')\n",
    "print( )\n",
    "print('The modal expansion of the spatial distribution of effective earthquake forces is')\n",
    "print(str(np.around(L_mod,0)) + ' kg') \n",
    "print( )\n",
    "print('The modal participation factors are')\n",
    "print(np.around(gamma_mod,3))\n",
    "print( )\n",
    "print('The effective modal masses are')\n",
    "print(str(np.around(M_eff,0)) + ' kg')\n",
    "print( )"
   ]
  },
  {
   "cell_type": "markdown",
   "id": "52a60f72-d65c-4d94-a8e8-5777eb785af1",
   "metadata": {},
   "source": [
    "**The response spectrum is plotted and the corresponding normalized accelerations for each natural period are obtained**"
   ]
  },
  {
   "cell_type": "code",
   "execution_count": 5,
   "id": "747ac5b7-2588-4680-a12e-f91d0af72b75",
   "metadata": {},
   "outputs": [
    {
     "name": "stdout",
     "output_type": "stream",
     "text": [
      "The maximum acceleration responses are\n",
      "[0.31  0.562] m/s2\n",
      "\n"
     ]
    },
    {
     "data": {
      "image/png": "[encoded data removed]",
      "text/plain": [
       "<Figure size 432x432 with 1 Axes>"
      ]
     },
     "metadata": {
      "needs_background": "light"
     },
     "output_type": "display_data"
    }
   ],
   "source": [
    "# Response Spectrum\n",
    "T_spectrum = [0,0.10,0.30,1.2,10]       # Spectrum Parameters for D-type soil\n",
    "S_0 = 1.8                               # Spectrum Parameters for D-type soil\n",
    "resp_spectrum = [lambda t: S_0*(2/3 + (t/T_spectrum[1])*(2.5/q - 2/3)),\n",
    "                 lambda t: S_0*(2.5/q) if (isinstance(t, float)) else S_0*(2.5/q)*np.ones(len(t)),\n",
    "                 lambda t: S_0*(2.5/q)*(T_spectrum[2]/t),\n",
    "                 lambda t: S_0*(2.5/q)*((T_spectrum[2]*T_spectrum[3])/(t**2))]\n",
    "\n",
    "# Seismic Response\n",
    "S_a = np.zeros(Tn.shape)\n",
    "for i_mode,Tn_i in enumerate(Tn):\n",
    "    if Tn_i < T_spectrum[1]: \n",
    "        S_a[i_mode] = a_g * resp_spectrum[0](Tn_i)\n",
    "    elif Tn_i > T_spectrum[1] and Tn_i < T_spectrum[2]:\n",
    "        S_a[i_mode] = a_g * resp_spectrum[1](Tn_i)\n",
    "    elif Tn_i > T_spectrum[2] and Tn_i < T_spectrum[3]:\n",
    "        S_a[i_mode] = a_g * resp_spectrum[2](Tn_i)\n",
    "    elif Tn_i > T_spectrum[3]:\n",
    "        S_a[i_mode] = a_g * resp_spectrum[3](Tn_i)\n",
    "        # Plotting the response spectrum\n",
    "plt.figure(figsize=(6.00, 6.00),constrained_layout=True)\n",
    "for i_curve in range(len(resp_spectrum)):\n",
    "    t = np.linspace(T_spectrum[i_curve],T_spectrum[i_curve+1],20,endpoint=True)\n",
    "    S_norm = resp_spectrum[i_curve](t)\n",
    "    plt.plot(t,S_norm,'-k',lw=1.5)\n",
    "for i_mode,Tn_i in enumerate(Tn):\n",
    "        plt.vlines(x=Tn_i, ymin=0, ymax=S_a[i_mode]/a_g, color='red', linestyle='--',lw=1)\n",
    "        plt.text(x=Tn_i+0.01, y=S_a[i_mode]/a_g+0.01, s=str(np.round(S_a[i_mode]/a_g,2)), fontsize=10,color='red')\n",
    "        plt.text(x=Tn_i-0.07, y=0.01, s='$T_{'+str(i_mode+1)+'}$', fontsize=10,color='red')\n",
    "plt.title('Response Spectrum')\n",
    "plt.xlabel('T (s)')\n",
    "plt.ylabel('$S_{a}/a_{g}$')\n",
    "plt.xlim([0,2])\n",
    "plt.ylim([0,1.1*resp_spectrum[1](T_spectrum[1])])\n",
    "\n",
    "print('The maximum acceleration responses are')\n",
    "print(str(np.around(S_a,3)) + ' m/s2')\n",
    "print( )"
   ]
  },
  {
   "cell_type": "markdown",
   "id": "0b6360df-a25c-4b6f-9b4e-2e86ecd7cb2a",
   "metadata": {},
   "source": [
    "**Having obtained the maximum acceleration responses with the response spectrum, the modal analysis and combination is done:**"
   ]
  },
  {
   "cell_type": "code",
   "execution_count": 6,
   "id": "5c5f679b-a61a-497c-8ac7-6906e8400286",
   "metadata": {},
   "outputs": [
    {
     "name": "stdout",
     "output_type": "stream",
     "text": [
      "The maximum modal displacements are\n",
      "[ 0.00299083 -0.00026945]\n",
      "\n",
      "The maximum displacements at 1st floor for each mode are\n",
      "[1.31 0.41] mm\n",
      "\n",
      "The maximum displacement at 1st floor (combined using the SRSS rule)\n",
      "1.37 mm\n",
      "\n",
      "Multiplying this displacement with the behaviour factor we obtain the real maximum diplacement at the first floor\n",
      "2.74 mm\n",
      "\n",
      "The maximum forces at each degree of freedom (rows) per mode (columns) are\n",
      "[[ 7988.75 -3228.01]\n",
      " [ 5231.45  7394.05]] N\n",
      "\n",
      "The base shear force for each mode\n",
      "[13220.2   4166.04] N\n",
      "\n",
      "The combined base shear force (using the SRSS rule)\n",
      "13861.09 N\n",
      "\n",
      "The maximum overturning moment for each mode\n",
      "[76847.07  6980.16] Nm\n",
      "\n",
      "The combined overturning moment (using the SRSS rule)\n",
      "77163.43 Nm\n",
      "\n"
     ]
    }
   ],
   "source": [
    "# Modal Analysis\n",
    "eta_max = gamma_mod * S_a/(wn**2)           # max modal displacements\n",
    "u_floor = phi[1,:] * eta_max                # spatial displacements at first floor\n",
    "u_floor_max = np.sqrt(np.sum(u_floor**2))   # combined displacement at first floor by SRSS\n",
    "u_floor_real = q * u_floor_max\n",
    "    # Base shear\n",
    "Fs_max = gamma_mod*S_a*(M @ phi)        # max forces in each DOF for each mode\n",
    "V_max = np.sum(Fs_max,axis=0)           # base shear for each mode\n",
    "V_max_tot = np.sqrt(np.sum(V_max**2))   # combined total base shear using SRSS\n",
    "    # Overturning moment\n",
    "M_max = np.sum(Fs_max*np.array([[L_1+L_2],[L_2]]),0)            # max overturning moment per mode\n",
    "M_max_tot = np.sqrt(np.sum(M_max**2))   # combined total overturning moment using SRSS\n",
    "\n",
    "print('The maximum modal displacements are')\n",
    "print(eta_max)\n",
    "print( )\n",
    "print('The maximum displacements at 1st floor for each mode are')\n",
    "print(str(np.around(1000*u_floor,2)) + ' mm')\n",
    "print( )\n",
    "print('The maximum displacement at 1st floor (combined using the SRSS rule)')\n",
    "print(str(np.around(1000*u_floor_max,2)) + ' mm')\n",
    "print( )\n",
    "print('Multiplying this displacement with the behaviour factor we obtain the real maximum diplacement at the first floor')\n",
    "print(str(np.around(1000*u_floor_real,2)) +' mm')\n",
    "print( )\n",
    "print('The maximum forces at each degree of freedom (rows) per mode (columns) are')\n",
    "print(str(np.around(Fs_max,2)) +' N')\n",
    "print( )\n",
    "print('The base shear force for each mode')\n",
    "print(str(np.around(V_max,2)) +' N')\n",
    "print( )\n",
    "print('The combined base shear force (using the SRSS rule)')\n",
    "print(str(np.around(V_max_tot,2)) +' N')\n",
    "print( )\n",
    "print('The maximum overturning moment for each mode')\n",
    "print(str(np.around(M_max,2)) +' Nm')\n",
    "print( )\n",
    "print('The combined overturning moment (using the SRSS rule)')\n",
    "print(str(np.around(M_max_tot,2)) +' Nm')\n",
    "print( )"
   ]
  },
  {
   "cell_type": "markdown",
   "id": "94b1cd6f-0b58-4ff7-a4e4-7b09a3f97719",
   "metadata": {},
   "source": [
    "### Part 2: Eurocode 8\n",
    "**This part follows the same steps shown and explained in part two \"Eurocode 8\" of the file:**  \n",
    "$Example$ - $Earthquake$ $Analysis$ $and$ $EC8$  \n",
    "\n",
    "**EC 8 procedure for \"Simple structures\"**  \n",
    "**First, the calculation of the fundamental period of the structure can be approximated** "
   ]
  },
  {
   "cell_type": "code",
   "execution_count": 7,
   "id": "fa61ad9e-4b87-4832-96cc-6dad6b68a15f",
   "metadata": {},
   "outputs": [
    {
     "name": "stdout",
     "output_type": "stream",
     "text": [
      "The first natural period is\n",
      "0.323 s\n",
      "\n"
     ]
    }
   ],
   "source": [
    "c_t = 0.075                             # EC 8, section 4.3.3.2.2 Base shear force, equation (4.6)\n",
    "lambda_ec8 = 1.00                       # EC 8, section 4.3.3.2.2 Base shear force, equation (4.5)\n",
    "\n",
    "T1_ec8 = c_t*((L_1+L_2)**(3/4))             # fundamental period\n",
    "\n",
    "print('The first natural period is')\n",
    "print(str(np.around(T1_ec8,3)) + ' s')\n",
    "print( )"
   ]
  },
  {
   "cell_type": "markdown",
   "id": "309a9fde-1ac4-4485-8882-7e7199e8b285",
   "metadata": {},
   "source": [
    "**Next, the seismic base shear force is obtained**  "
   ]
  },
  {
   "cell_type": "code",
   "execution_count": 8,
   "id": "cd51a600-9b64-4a53-a4c5-b7b6228e56bb",
   "metadata": {},
   "outputs": [
    {
     "name": "stdout",
     "output_type": "stream",
     "text": [
      "The acceleration response for the obtained fundamental period is\n",
      "0.523 m/s2\n",
      "\n",
      "The seismic base shear is\n",
      "26141.0 N\n",
      "\n"
     ]
    },
    {
     "data": {
      "image/png": "[encoded data removed]",
      "text/plain": [
       "<Figure size 432x432 with 1 Axes>"
      ]
     },
     "metadata": {
      "needs_background": "light"
     },
     "output_type": "display_data"
    }
   ],
   "source": [
    "S_ec8 = a_g * resp_spectrum[2](T1_ec8)  # response spectrum\n",
    "        # Plotting the response spectrum\n",
    "plt.figure(figsize=(6.00, 6.00),constrained_layout=True)\n",
    "for i_curve in range(len(resp_spectrum)):\n",
    "    t = np.linspace(T_spectrum[i_curve],T_spectrum[i_curve+1],20,endpoint=True)\n",
    "    S_norm = resp_spectrum[i_curve](t)\n",
    "    plt.plot(t,S_norm,'-k',lw=1.5)\n",
    "plt.vlines(x=T1_ec8, ymin=0, ymax=S_ec8/a_g, color='red', linestyle='--',lw=1)\n",
    "plt.text(x=T1_ec8+0.01, y=S_ec8/a_g+0.01, s=str(np.round(S_ec8/a_g,2)), fontsize=10,color='red')\n",
    "plt.text(x=T1_ec8-0.07, y=0.01, s='$T_{1}$', fontsize=10,color='red')\n",
    "plt.title('Response Spectrum')\n",
    "plt.xlabel('T (s)')\n",
    "plt.ylabel('$S_{a}/a_{g}$')\n",
    "plt.xlim([0,2])\n",
    "plt.ylim([0,1.1*resp_spectrum[1](T_spectrum[1])])\n",
    "\n",
    "Fb_ec8 = S_ec8 * np.sum(np.diag(M)) * lambda_ec8\n",
    "\n",
    "print('The acceleration response for the obtained fundamental period is')\n",
    "print(str(np.around(S_ec8,3)) + ' m/s2')\n",
    "print( )\n",
    "print('The seismic base shear is')\n",
    "print(str(np.around(Fb_ec8,0)) + ' N')\n",
    "print( )"
   ]
  },
  {
   "cell_type": "markdown",
   "id": "235e9a49-33e0-413a-a5fa-77c67cb638cb",
   "metadata": {},
   "source": [
    "**Finally, the seismic base shear force can be distributed along each floor and thus compute the overturning moment** "
   ]
  },
  {
   "cell_type": "code",
   "execution_count": 9,
   "id": "6d4bda0d-78d9-40b6-b6c4-ed2d1430f236",
   "metadata": {},
   "outputs": [
    {
     "name": "stdout",
     "output_type": "stream",
     "text": [
      "The distributed forces on each degree of freedom are\n",
      "[14076. 12065.] N\n",
      "\n",
      "The overturning moment is\n",
      "146794.0 N*m\n",
      "\n"
     ]
    }
   ],
   "source": [
    "Fmax_ec8 = Fb_ec8 * ((np.diag(M))*(np.array([L_1+L_2,L_2]))/np.sum((np.diag(M))*(np.array([L_1+L_2,L_2]))))\n",
    "Mmax_ec8 = np.sum(Fmax_ec8*np.array([L_1+L_2,L_2]))\n",
    "\n",
    "print('The distributed forces on each degree of freedom are')\n",
    "print(str(np.around(Fmax_ec8,0)) +' N')\n",
    "print( )\n",
    "print('The overturning moment is')\n",
    "print(str(np.around(Mmax_ec8,0)) +' N*m')\n",
    "print( )"
   ]
  }
 ],
 "metadata": {
  "kernelspec": {
   "display_name": "Python 3 (ipykernel)",
   "language": "python",
   "name": "python3"
  },
  "language_info": {
   "codemirror_mode": {
    "name": "ipython",
    "version": 3
   },
   "file_extension": ".py",
   "mimetype": "text/x-python",
   "name": "python",
   "nbconvert_exporter": "python",
   "pygments_lexer": "ipython3",
   "version": "3.9.13"
  }
 },
 "nbformat": 4,
 "nbformat_minor": 5
}
