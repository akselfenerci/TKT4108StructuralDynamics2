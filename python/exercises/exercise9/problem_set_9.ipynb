{
 "cells": [
  {
   "cell_type": "markdown",
   "id": "d1ab28be-9d99-4030-95ce-f166caec0755",
   "metadata": {},
   "source": [
    "# TKT4108 - Structural Dynamics 2\n",
    "## Homework 1"
   ]
  },
  {
   "cell_type": "markdown",
   "id": "0393f7bd-2473-48b0-a2dc-e03d378aad3a",
   "metadata": {},
   "source": [
    "### For the provided earthquake record of Imperial valley perform the following analyses\n",
    "(Note acceleration data are in g):  \n",
    "\n",
    "- Compute and plot velocity and displacement time histories\n",
    "- Determine peak ground acceleration (PGA), peak ground velocity (PGV) and peak ground displacement (PGD)\n",
    "- Compute and plot Fourier Amplitude spectrum\n",
    "- Compute and plot acceleration response spectrum for $\\beta$ = 5% \n",
    "- Compute RMS acceleration and Arias intensity\n",
    "- Expected (average) PGA for the same earthquake at a distance 40 km from epicenter, data is for 10 km."
   ]
  },
  {
   "cell_type": "code",
   "execution_count": 2,
   "id": "782e7ccd",
   "metadata": {},
   "outputs": [],
   "source": [
    "import numpy as np\n",
    "\n",
    "# load the data\n",
    "t,a_g = np.loadtxt(\"Earthquake_HW1_Accel.csv\", delimiter=',').T"
   ]
  }
 ],
 "metadata": {
  "kernelspec": {
   "display_name": "Python 3 (ipykernel)",
   "language": "python",
   "name": "python3"
  },
  "language_info": {
   "codemirror_mode": {
    "name": "ipython",
    "version": 3
   },
   "file_extension": ".py",
   "mimetype": "text/x-python",
   "name": "python",
   "nbconvert_exporter": "python",
   "pygments_lexer": "ipython3",
   "version": "3.8.8"
  }
 },
 "nbformat": 4,
 "nbformat_minor": 5
}
