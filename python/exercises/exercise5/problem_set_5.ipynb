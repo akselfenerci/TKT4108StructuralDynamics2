{
 "cells": [
  {
   "cell_type": "markdown",
   "id": "7dcced08-f9e6-4aba-9b62-b9690d6a5c98",
   "metadata": {},
   "source": [
    "# TKT4108 Structural dynamics 2\n",
    "\n",
    "## Exercise 5\n",
    "\n",
    "**Main topics:** Signal processing and system identification\n",
    "\n",
    "**References:** Jupyter notebook examples \n",
    "\n",
    "**Hint**: Take a look at the examples posted on Github\n",
    "\n",
    "### Problem 1\n",
    "In this problem, we will consider a single degree of freedom dynamic system with a mass of 100 kg, a natural frequency of 1 Hz and a damping ratio of 5%. The system is subjected to a zero mean stochastic dynamic load with a constant spectral density $S_x(\\omega)=10^3$ \n",
    "\n",
    "<img src=\"Fig_5_1.svg\">\n",
    "\n",
    "a) Obtain the auto spectral density of the response by calculating the response in the frequency domain using the power spectral density method. Calculate the standard deviation of the response.\n",
    "\n",
    "b) Make a python code that generates realizations of the load by Monte Carlo simulations. Calculate the dynamic response of the system using Newmark's method. How long time series should we consider to obtain reasonable estimates of the standard deviation of the response?\n",
    "\n",
    "c) Make a python code that estimates the auto-spectral density of the response from the times series and present results considering the average of 10 response time series 600 seconds long. \n",
    "\n",
    "d) Compare the auto-spectral density from the time and frequency domains and comment on any discrepancies you observe.\n"
   ]
  },
  {
   "cell_type": "markdown",
   "id": "ad94432e-ac88-40e5-9ae9-55b57135384e",
   "metadata": {},
   "source": [
    "### Problem 2\n",
    "\n",
    "In this problem, we will consider the 5-story shear frame displayed below. The mass of each story is 1000 kg, and the columns are made of RHS 100x100x6.3 $I_y = 3.36 \\cdot 10^{-6} m^4$. The damping ratio of all modes is 5 %. The story height is 3 meters\n",
    "\n",
    "<img src=\"Fig_5_2.svg\">\n",
    "\n",
    "a) Obtain the mass, stiffness and damping matrix of the structure\n",
    "\n",
    "b) The frame is subjected to two uncorrelated loads with constant auto-spectral density $S_x(\\omega) = 10^6$. Calculate the auto-and cross-spectral densities of the response of stories 1 and 3. Use the power spectral density method.\n",
    "\n",
    "c) Solve the dynamic response of the frame in the time domain. Obtain response for 1 hour.\n",
    "\n",
    "d) Estimate the auto spectral densities of the response in degrees of freedom 1 and 3 using Welch's method. How many windows would you recommend using?\n",
    "\n",
    "e) Estimate the cross-spectral density of the response in degrees of freedom 1 and 3. How many windows would you recommend using?\n",
    "\n"
   ]
  }
 ],
 "metadata": {
  "kernelspec": {
   "display_name": "Python 3 (ipykernel)",
   "language": "python",
   "name": "python3"
  },
  "language_info": {
   "codemirror_mode": {
    "name": "ipython",
    "version": 3
   },
   "file_extension": ".py",
   "mimetype": "text/x-python",
   "name": "python",
   "nbconvert_exporter": "python",
   "pygments_lexer": "ipython3",
   "version": "3.9.12"
  }
 },
 "nbformat": 4,
 "nbformat_minor": 5
}
