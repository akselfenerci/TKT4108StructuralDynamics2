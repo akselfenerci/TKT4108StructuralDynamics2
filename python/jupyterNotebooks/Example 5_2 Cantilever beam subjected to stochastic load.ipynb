{
 "cells": [
  {
   "cell_type": "markdown",
   "metadata": {},
   "source": [
    "# Example 5.2 Cantilever beam subjected to stochastic load\n",
    "\n",
    "We consider a cantilever beam subjected to a distributed stochastic load $q(x,t)$. We neglect all dynamic effects, which means that we assume that the natural frequency of the structure is well above the frequency content of the loading. We assume that the load is a stationary and homogeneous process and that the following cross-correlation function applies\n",
    "\n",
    "$$ R_q(\\tau,\\Delta x) = E \\left[ q(t,x) q(t+\\tau,x+\\Delta x)  \\right] = \\exp \\left(-|\\tau|\\right) \\exp \\left(-|\\Delta x|\\right) $$\n",
    "\n",
    "## Quastion 1: Calculate the auto.correlation function of the bending moment at the support\n",
    "\n",
    "The bending moment at the support can be obtained by summing all contriution along the beam\n",
    "\n",
    "$$M(t) = \\int_{0}^{L} q(x,t) x dx$$\n",
    "\n",
    "The auto-correlation function is defined as\n",
    "\n",
    "$$E\\left[M(t) M (t+\\tau) \\right] = E\\left[\\int_{0}^{L}\\int_{0}^{L} x_1 q(x,t) q(x+\\Delta x,t+\\tau) x_2dx_{1} dx_{2}\\right ] $$\n",
    "\n",
    "$$E\\left[M(t) M (t+\\tau) \\right] = \\int_{0}^{L}\\int_{0}^{L} x_1 E\\left[ q(x,t) q(x+\\Delta x,t+\\tau) \\right ]x_2dx_{1} dx_{2} $$\n",
    "\n",
    "$$E\\left[M(t) M (t+\\tau) \\right] = \\int_{0}^{L}\\int_{0}^{L} x_1 R_q(\\tau,\\Delta x) x_2dx_{1} dx_{2} $$\n",
    "\n",
    "$$E\\left[M(t) M (t+\\tau) \\right] = \\exp \\left(-|\\tau|\\right) \\int_{0}^{L}\\int_{0}^{L} x_1 \\exp \\left(-|\\Delta x|\\right) x_2dx_{1} dx_{2} $$\n"
   ]
  },
  {
   "cell_type": "markdown",
   "metadata": {},
   "source": [
    "### Plot the integrand"
   ]
  },
  {
   "cell_type": "code",
   "execution_count": null,
   "metadata": {},
   "outputs": [],
   "source": [
    "import numpy as np\n",
    "from matplotlib import pyplot as plt\n",
    "from mpl_toolkits import mplot3d\n",
    "from matplotlib import cm\n",
    "\n",
    "L = 10.0 # Beam length\n",
    "x1 = np.linspace(0,L,200)\n",
    "x2 = np.linspace(0,L,200)\n",
    "\n",
    "integrand = np.zeros((x1.shape[0],x2.shape[0]))\n",
    "\n",
    "for k1 in range(x1.shape[0]):\n",
    "    for k2 in range (x2.shape[0]):\n",
    "        integrand[k1,k2] = x1[k1]*x2[k2]*np.exp(-np.abs(x1[k1]-x2[k2]))\n",
    "        \n",
    "# Plot integrand\n",
    "x1p, x2p = np.meshgrid(x1, x2)\n",
    "x3p = integrand\n",
    "\n",
    "fig, ax = plt.subplots(subplot_kw={\"projection\": \"3d\"},figsize=(10,10))\n",
    "\n",
    "surf = ax.plot_surface(x1p, x2p, x3p.T)\n",
    "ax.view_init(30,250)\n",
    "ax.set_xlabel(r'$x_1$')\n",
    "ax.set_ylabel(r'$x_2$');\n",
    "\n"
   ]
  },
  {
   "cell_type": "markdown",
   "metadata": {},
   "source": [
    "### Calculate the integral and plot result"
   ]
  },
  {
   "cell_type": "code",
   "execution_count": 70,
   "metadata": {},
   "outputs": [
    {
     "data": {
      "image/png": "[encoded data removed]",
      "text/plain": [
       "<Figure size 432x288 with 1 Axes>"
      ]
     },
     "metadata": {
      "needs_background": "light"
     },
     "output_type": "display_data"
    }
   ],
   "source": [
    "tau = np.linspace(0,10,100)\n",
    "R = np.exp(-tau)*np.trapz(np.trapz(integrand,x1,axis = 1),x2)\n",
    "\n",
    "plt.figure()\n",
    "plt.plot(tau,R)\n",
    "plt.xlabel(r'$\\tau$')\n",
    "plt.ylabel(r'$R_M(\\tau)$')\n",
    "plt.grid()\n"
   ]
  }
 ],
 "metadata": {
  "kernelspec": {
   "display_name": "Python 3",
   "language": "python",
   "name": "python3"
  },
  "language_info": {
   "codemirror_mode": {
    "name": "ipython",
    "version": 3
   },
   "file_extension": ".py",
   "mimetype": "text/x-python",
   "name": "python",
   "nbconvert_exporter": "python",
   "pygments_lexer": "ipython3",
   "version": "3.7.4"
  }
 },
 "nbformat": 4,
 "nbformat_minor": 2
}
