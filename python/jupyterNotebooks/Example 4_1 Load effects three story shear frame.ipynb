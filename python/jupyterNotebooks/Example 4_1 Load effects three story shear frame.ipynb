{
 "cells": [
  {
   "cell_type": "markdown",
   "metadata": {},
   "source": [
    "# Exampe 4.1: Load effects in three story shear frame\n",
    "In this example we will study the shear force and bending moment in one of the columns between degree of freedom 1 and 2 in a three story shear frame.\n",
    "\n",
    "<img src=\".\\figures\\Fig_4_1_.svg\">\n",
    "\n",
    "![Alt text](.\\figures\\Fig_4_1_.svg)"
   ]
  }
 ],
 "metadata": {
  "kernelspec": {
   "display_name": "Python 3",
   "language": "python",
   "name": "python3"
  },
  "language_info": {
   "codemirror_mode": {
    "name": "ipython",
    "version": 3
   },
   "file_extension": ".py",
   "mimetype": "text/x-python",
   "name": "python",
   "nbconvert_exporter": "python",
   "pygments_lexer": "ipython3",
   "version": "3.7.4"
  }
 },
 "nbformat": 4,
 "nbformat_minor": 2
}
