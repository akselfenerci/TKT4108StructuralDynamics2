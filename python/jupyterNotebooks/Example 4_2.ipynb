{
 "cells": [
  {
   "cell_type": "markdown",
   "id": "7b088dff-f3f8-4f4b-9807-83db1c0a1dec",
   "metadata": {},
   "source": [
    "# Example 4-2: Random vibrations using the finite element method\n",
    "\n",
    "In this example we will consider a simply supported glulam beam subjected to a stochastic load. The beam is 10 meters long 0.5 meters wide and 0.5 meters high. The mass of the beam and non-structural mass is 1000 kg/m. Use 10 beam elements to model the beam\n",
    "\n",
    "\n",
    "\n",
    "                        \n",
    "$$ \\mathbf{k} = \\left[ \\begin{array}{cccccc} \n",
    "\\frac{EA}{L} & 0 & 0 & -\\frac{EA}{L} & 0 & 0 \\\\\n",
    "0 & \\frac{12EI}{L^3} & -\\frac{6EI}{L^2} & 0 & -\\frac{12EI}{L^3} & -\\frac{6EI}{L^2} \\\\\n",
    "0 & -\\frac{6EI}{L^2} & \\frac{4EI}{L} & 0 & \\frac{6EI}{L^2} & \\frac{2EI}{L} \\\\\n",
    "-\\frac{EA}{L} & 0 & 0 & \\frac{EA}{L} & 0 & 0 \\\\\n",
    "0 & -\\frac{12EI}{L^3} & \\frac{6EI}{L^2} & 0 & \\frac{12EI}{L^3} & \\frac{6EI}{L^2}  \\\\\n",
    "0 & -\\frac{6EI}{L^2}  & \\frac{2EI}{L}  & 0 & \\frac{6EI}{L^2}  & \\frac{4EI}{L}  \\\\\n",
    "\\end{array}   \\right]  $$\n",
    "\n",
    "\n",
    "$$ \\mathbf{m} = \\frac{mL}{420} \\left[ \\begin{array}{cccccc} \n",
    "140 & 0 & 0 & 70 & 0 & 0 \\\\\n",
    "0 & 156 & -22L & 0 & 54 & 13L \\\\\n",
    "0 & -22L & 4L^2 & 0 & -13L & -3L^2 \\\\\n",
    "70 & 0 & 0 & 140 & 0 & 0 \\\\\n",
    "0 & 54 & -13L & 0 & 156 & 22L  \\\\\n",
    "0 & 13L  & -3L^2  & 0 & 22L  & 4L^2 \\\\\n",
    "\\end{array}   \\right]  $$"
   ]
  },
  {
   "cell_type": "code",
   "execution_count": null,
   "id": "97b4d81e-04ef-4283-bb6f-be638e9710bf",
   "metadata": {},
   "outputs": [],
   "source": []
  }
 ],
 "metadata": {
  "kernelspec": {
   "display_name": "",
   "name": ""
  },
  "language_info": {
   "name": ""
  }
 },
 "nbformat": 4,
 "nbformat_minor": 5
}
