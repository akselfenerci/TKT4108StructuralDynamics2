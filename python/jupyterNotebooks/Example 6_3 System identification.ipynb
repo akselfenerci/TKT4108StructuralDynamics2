{
 "cells": [
  {
   "cell_type": "markdown",
   "metadata": {
    "tags": []
   },
   "source": [
    "# Example 6-3: System identification\n",
    "\n",
    "This example considers identification of modal properties using measured response data. \n",
    "\n",
    "As engineers working with dynamics, it is very important to have a good overview of modal properties in the problem you are working with. The modal properties are traditionally defined as the solution of the eigenvalue problem $ [-\\omega^2 \\mathbf{M}+\\mathbf{K} ] \\mathbf{v} = \\mathbf{0}$. This requires that the mass and stiffness matrices are available, for instance from a finite element model.\n",
    "\n",
    "If we are working with existing structures, it is also possible to estimate the actual modal properties from measurements of structural responses. For instance, the natural frequency is \"hidden\" in the response as a periodic behavior. To measure the dynamic response, a variety of alternatives is available:\n",
    "\n",
    "- **Accelerometers**: this is the most common altenative. These sensors are cheap ande easy to install.\n",
    "- **Strain gauges**: are cheap, but installation requires access to the raw metallic surface of the structural component.\n",
    "- **GPS/GNSS**: this alternative is only feasible for structures with large motions, since the accuracy is in the order of cm/mm.\n",
    "- **Laser**: measures displacements between the sensor and a reflecive target. Requires a fixed point for the sensor, and a short distance to the target.\n",
    "- **Video**: it is possible to film the structure and track its motion frame-by-frame. This is very computationally expensive.\n",
    "\n",
    "Why do measurements when we have computer models and fancy software? There are many reasons one wishes to perform modal identification or system identification:\n",
    "\n",
    "- **Data-driven models**: The system (structure) is complicated, and models accurately reflecting real structure are too demanding to develop. We can instead estimate models from the measurement data.\n",
    "- **Model uncertainties**: Model and parameter uncertainties are present, meaning the engineer do not fully know how to model the structure with high precision. For instance, values for some structural parameters are unknown, exact boundary contitions are unknown (spring supported or simply supported?), joint behavior is unknown (fixed, hinged, or something inbetween?), non-structural masses are unknown. \n",
    "- **Model updating/calibration**: The modal information can be used to calibrate system parameters. For instance, the tension in a cable can be estimated if the natural frequencies of the cable are measured.\n",
    "- **Damping identification**: Whereas mass and stiffness of materials are usually linked to well-known physics (beam theory), damping is a complex phenomenon that is not easy to predict.\n",
    "- **Modal tracking**: To track the modal properties over a long time period (weeks, months, years,...). Any changes over time could indicate evolving damage, or other unwanted developments in the structure.\n",
    "- **Model verification**: Verification of a computer model of the structure, or verifying that the structure behaves as intended in the design.\n",
    "\n",
    "The easiest method to determine natural frequencies and damping ratios is to consider time histories of free vibration (i.e., give the structure a small force impulse and let the response decay to zero). However, this is rarely possible outside laboratory experiments since: \n",
    "- **Multi-modal behavior**: It is not easy to isolate the motion to only one specific mode at a time.\n",
    "- **Operational conditions**: Structures in-situ (buildings, towers, bridges, ...) can rarely be controlled. They are naturally not in free vibration but continuously excited by so-called ambient excitation (traffic, wind, human loading, ... ).\n",
    "\n",
    "The two methods presented in the following are based on estimated spectra of dynamic responses, so we will generally assume that the response is a stationary stochastic process."
   ]
  },
  {
   "cell_type": "markdown",
   "metadata": {},
   "source": [
    "Let us simulate some response data using the structure from example 4.1.\n",
    "\n",
    "<img src=\".\\figures\\Fig_4_1.svg\">\n",
    "\n"
   ]
  },
  {
   "cell_type": "code",
   "execution_count": 6,
   "metadata": {},
   "outputs": [
    {
     "data": {
      "text/plain": [
       "<matplotlib.legend.Legend at 0x16e47da74f0>"
      ]
     },
     "execution_count": 6,
     "metadata": {},
     "output_type": "execute_result"
    }
   ],
   "source": [
    "import numpy as np\n",
    "from matplotlib import pyplot as plt\n",
    "from scipy import stats as sps\n",
    "from functions import sDynFunctions\n",
    "\n",
    "# Structural properties\n",
    "m = 1000.0; \n",
    "c = 2000.0;\n",
    "EI = 2.1E11*3.36E-6;\n",
    "L = 4.0;\n",
    "k = 2*12*EI/L**3;\n",
    "MM = np.diag([1, 1, 1])*m;\n",
    "KK = np.array([ [2, -1, 0], [-1, 2, -1], [0, -1, 1]])*k\n",
    "CC = np.diag([1, 0.5, 0])*c;\n",
    "\n",
    "dt=0.01 # Time step\n",
    "T=600 # Total time\n",
    "t = np.arange(0,T,dt) # Time vector\n",
    "\n",
    "f=np.random.normal(0,50, size=(3,len(t))) # White noise loading\n",
    "\n",
    "u0=np.zeros((3,1)) # Initial displacement\n",
    "udot0=np.zeros((3,1)) # Initial velocity\n",
    "\n",
    "# Newmark time integration\n",
    "u, udot, u2dot=sDynFunctions.linear_newmark_krenk(MM,CC,KK,f,u0,udot0,dt,0.5,0.25)\n",
    "    \n",
    "# Plot displacements\n",
    "plt.figure(figsize=(10,3))   \n",
    "plt.plot(t,u2dot[0,:],'-',label='$\\ddot{u}_1$')  \n",
    "plt.plot(t,u2dot[1,:],'-',label='$\\ddot{u}_2$')    \n",
    "plt.plot(t,u2dot[2,:],'-',label='$\\ddot{u}_3$')    \n",
    "plt.xlabel('$t$')\n",
    "plt.ylabel('$\\ddot{u}(t)$');\n",
    "plt.xlim(0,5)\n",
    "plt.grid()\n",
    "plt.legend()\n"
   ]
  },
  {
   "cell_type": "markdown",
   "metadata": {},
   "source": [
    "From the time history of accelerations it is obvious that there is cyclic behavior from some vibration modes, but the time history appears quite chaotic at a glance. It is also not exactly clear how many modes are present (2,3,4,5,...?).\n",
    "\n",
    "Next, we estimate the spectrum using Welch's method.\n",
    "\n",
    "## Method 1:  basic frequency domain method and peak picking\n",
    "\n",
    "We already know that the response spectrum for a MDOF system is given by theory as $ \\mathbf{S}_x(\\omega)= \\mathbf{H}(\\omega) \\mathbf{S}_p(\\omega) \\mathbf{H}(\\omega)^\\text{H} $.\n",
    "\n",
    "We start with the response time series $x(t)$ and produce its spectrum using the FFT or Welch's method. Next, peak picking is simply the act of locating the peaks in the response spectrum. These peaks originate from the dynamic amplification around the natural frequency. One should be careful since some peaks could indicate not a natural frequency but a distinct harmonic component in the loading, e.g. a rotating machinery. It is also neccessary that the modes are excited sufficiently so that their contribution is visible in the spectrum. The number of modes contributing to the response could range from 1 to 100, and highly depends on the structure and its type of loading.\n",
    "\n",
    "We often deal with acceleration time histories rather than displacements, but nothing in the procedure changes. We know that the acceleration spectrum is given by $ \\mathbf{S}_{\\ddot{x}}(\\omega) = \\omega^4 \\mathbf{S}_x(\\omega)$. The peaks in the spectrum will still be at the same locations, namely at the natural frequencies."
   ]
  },
  {
   "cell_type": "code",
   "execution_count": 7,
   "metadata": {},
   "outputs": [],
   "source": [
    "from scipy.signal import welch, csd\n",
    "import scipy\n",
    "\n",
    "Ndivisions=10 # Number of divisions of the time series\n",
    "Nwindow=np.ceil(len(t)/Ndivisions) # Length of window\n",
    "\n",
    "Nfft_pow2 = 2**(np.ceil(np.log2(Nwindow))) # Next power of 2\n",
    "\n",
    "# Spectral matrix\n",
    "S_welch=np.zeros((3,3,np.int32(Nfft_pow2/2+1)),dtype=np.complex_)\n",
    "\n",
    "# Fill spectral matrix by taking the cross spectral density between each of the 3 time series\n",
    "for k1 in range(3):\n",
    "    for k2 in range(3):\n",
    "            f, S_Hz=scipy.signal.csd(u2dot[k1,:],u2dot[k2,:], fs=1/dt, window='hann', nperseg=Nwindow, noverlap=None, nfft=Nfft_pow2, detrend='constant', return_onesided=True, scaling='density', axis=-1, average='mean')\n",
    "            \n",
    "            w_welch=f*2*np.pi # Frequency axis in rad/s\n",
    "            S_welch[k1,k2,:]=S_Hz/(2*np.pi) # Spectrum in rad/s\n",
    "            \n",
    "# Plot spectrum\n",
    "fig, axs = plt.subplots(3,3,figsize=(10,6))    \n",
    "for k1 in range(3):\n",
    "    for k2 in range(3):\n",
    "        ax = axs[k1,k2]\n",
    "        ax.plot(w_welch,np.real(S_welch[k1,k2,:]))\n",
    "        ax.plot(w_welch,np.imag(S_welch[k1,k2,:]))\n",
    "        ax.set_ylabel(('$S_{' + str(k1+1) + str(k2+1) + '}(\\omega)$'))\n",
    "        ax.set_xlabel('$\\omega$')\n",
    "        ax.grid(True)\n",
    "        #ax.set_yscale('log')\n",
    "        ax.set_xlim(0,50)\n",
    "plt.tight_layout()\n"
   ]
  },
  {
   "cell_type": "markdown",
   "metadata": {},
   "source": [
    "\n",
    "It is now easy to pick out the natural frequencies by visual inspection: approximately 8, 20, and 29 rad/s. It is theoretically possible to also estimate damping by considering the shape of the peaks: low modal damping ratios lead to tall and narrow peaks, and high modal damping ratios lead to blunt peaks. This is however much more difficult in practice than estimating the natural frequencies, and is not covered here.\n",
    "\n",
    "The Welch-functions in Python usually produces spectral density $S(f)$ and frequency axis $f$ in Hz. If you want to convert to $S(\\omega)$ in rad/s, remember to scale by $2 \\pi$.\n"
   ]
  },
  {
   "cell_type": "markdown",
   "metadata": {},
   "source": [
    "## Method 2: frequency domain decomposition (FDD)\n",
    "\n",
    "This method is based on the singular value decomposition (SVD) of the cross-spectral density matrix. \n",
    "\n",
    "The SVD is widely used in linear algebra, and factorizes the matrix $\\mathbf{M}$ on the form $\\mathbf{M}=\\mathbf{U} \\mathbf{\\Sigma} \\mathbf{V}^\\text{H}$, where ${(~)}^\\text{H}$ denotes the Hermittian transpose (transpose + complex conjugate).  $\\mathbf{\\Sigma}=\\text{diag}(\\sigma_1,\\sigma_2,\\sigma_3,\\dots)$ is a diagonal matrix with values called the singular values $\\sigma_i$ (usually in descending order). The columns of $\\mathbf{U}=[\\mathbf{u}_1,\\mathbf{u}_2,\\mathbf{u}_3,\\dots]$ are called the left singular vectors $\\mathbf{u}_i$. The singular values $\\sigma_i$ are always real, but the singular vectors $\\mathbf{u}_i$ could be complex if $\\mathbf{M}$ is complex.\n",
    "\n",
    "$$\n",
    "\\begin{bmatrix}\n",
    "M_{11} & M_{12} & \\dots & M_{1n} \\\\\n",
    "M_{21} & M_{22} & \\dots & M_{2n} \\\\\n",
    "\\vdots & \\vdots & \\ddots & \\vdots \\\\\n",
    "M_{n1} & M_{n2} & \\dots & M_{nn}\n",
    "\\end{bmatrix}\n",
    "=\n",
    "\\begin{bmatrix}\n",
    "\\vdots  & \\vdots & \\vdots & \\vdots \\\\\n",
    "\\uparrow  & \\uparrow & \\vdots & \\uparrow \\\\\n",
    "\\mathbf{u}_{1} & \\mathbf{u}_2 & \\dots & \\mathbf{u}_{n} \\\\\n",
    "\\downarrow  & \\downarrow & \\vdots & \\downarrow \\\\\n",
    "\\vdots & \\vdots & \\vdots & \\vdots \\\\\n",
    "\\end{bmatrix}\n",
    "~\n",
    "\\begin{bmatrix}\n",
    "\\sigma_{11} &0 & \\dots & 0 \\\\\n",
    "0 & \\sigma_{22} & \\dots & 0 \\\\\n",
    "\\vdots & \\vdots & \\ddots & \\vdots \\\\\n",
    "0 & 0 & \\dots & \\sigma_{nn}\n",
    "\\end{bmatrix}\n",
    "~\n",
    "\\begin{bmatrix}\n",
    "\\vdots  & \\vdots & \\vdots & \\vdots \\\\\n",
    "\\uparrow  & \\uparrow & \\vdots & \\uparrow \\\\\n",
    "\\mathbf{v}_{1} & \\mathbf{v}_2 & \\dots & \\mathbf{v}_{n} \\\\\n",
    "\\downarrow  & \\downarrow & \\vdots & \\downarrow \\\\\n",
    "\\vdots & \\vdots & \\vdots & \\vdots \\\\\n",
    "\\end{bmatrix}\n",
    "^\\text{H}\n",
    "$$\n",
    "\n",
    "The SVD can also be expressed as the sum $\\mathbf{M}=\\sum_{k=1}^{N} \\mathbf{u}_i \\sigma_i \\mathbf{v}_i^\\text{H}$. In simple terms, $\\mathbf{M}$ is constructed from many singular vectors, and each singular value describes the importance of the corresponding singular vector (bigger value=more important contribution to \"building\" the total matrix $\\mathbf{M}$).\n",
    "\n",
    "Now let us consider how the SVD can be used in dynamics. The physical response can be expressed as the sum of contributions from all the modes $ \\mathbf{x}(t)= \\mathbf{\\Phi} \\mathbf{\\eta}(t)$. This means that the spectrum of the response can be expressed as $ \\mathbf{S}_x(\\omega)= \\mathbf{\\Phi}\\mathbf{S}_{\\eta}(\\omega) \\mathbf{\\Phi}^\\text{H} $. When we compare this to the SVD, some similarity can be recognized .\n",
    "\n",
    "Consider one specific frequency $\\omega=\\omega_s$. If this is a natural frequency of the structure, only one mode will dominate the total response at that frequency due to resonance (dynamic magnification). This implies that the spectral matrix can be approximated by only considering the first singular vector: $ \\mathbf{S}_x(\\omega_s) \\approx \\mathbf{u}_1 \\sigma_1 \\mathbf{v}_1^\\text{H}$. The estimate of the mode shape is then $\\mathbf{\\phi}_s=\\mathbf{u}_1$. Ideally, $\\mathbf{\\phi}_s$ should be real (or close to real). Due to noise and estimation uncertainty, however, $\\mathbf{\\phi}_s$ will also have an imaginary part. We usually neglect this and consider the real part only.\n",
    "\n"
   ]
  },
  {
   "cell_type": "markdown",
   "metadata": {
    "tags": []
   },
   "source": [
    "\n",
    "\n",
    "\n",
    "\n",
    "\n",
    "\n",
    "\n",
    "\n",
    "\n",
    "\n",
    "\n"
   ]
  },
  {
   "cell_type": "code",
   "execution_count": 8,
   "metadata": {},
   "outputs": [
    {
     "data": {
      "text/plain": [
       "<matplotlib.legend.Legend at 0x16e4809c0a0>"
      ]
     },
     "execution_count": 8,
     "metadata": {},
     "output_type": "execute_result"
    }
   ],
   "source": [
    "# Frequency domain decomposition\n",
    "import scipy\n",
    "\n",
    "# Zero matrices for singular value and singular vector\n",
    "sigma1=np.zeros(len(w_welch))\n",
    "sigma2=np.zeros(len(w_welch))\n",
    "sigma3=np.zeros(len(w_welch))\n",
    "u1=np.zeros((3,len(w_welch)),dtype=np.complex_)\n",
    "\n",
    "# Loop over all frequencies \n",
    "for k in np.arange(len(w_welch)):\n",
    "\n",
    "    u,sigma,v=np.linalg.svd(S_welch[:,:,k]) # SVD of slice of spectral matrix\n",
    "    \n",
    "    sigma1[k]=sigma[0] # Save first singular value\n",
    "    u1[:,k]=u[:,0] # Save first singular vector\n",
    "    sigma2[k]=sigma[1] # Save second singular value\n",
    "    sigma3[k]=sigma[2] # Save third singular value\n",
    "    \n",
    "# Find index of peaks in singular spectrum\n",
    "peaks_index,_ = scipy.signal.find_peaks(sigma1, distance=50, rel_height=0.5) \n",
    "\n",
    "# Pick 3 largest peaks\n",
    "peaks_index_top3 = np.sort(peaks_index[np.argpartition(sigma1[peaks_index], -3)[-3:]])\n",
    "\n",
    "# Plot singular value spectrum\n",
    "plt.figure(figsize=(8,3))\n",
    "plt.plot(w_welch,sigma1,'-',label='$\\sigma_1$')\n",
    "plt.plot(w_welch,sigma2,'-',label='$\\sigma_2$')\n",
    "plt.plot(w_welch,sigma3,'-',label='$\\sigma_3$')\n",
    "plt.plot(w_welch[peaks_index_top3],sigma1[peaks_index_top3],'o',label = 'Peak')    \n",
    "plt.xlabel('$\\omega$');\n",
    "plt.ylabel('Singular value')\n",
    "plt.yscale('log')\n",
    "plt.xlim(0,50)\n",
    "plt.grid()\n",
    "plt.legend()   \n"
   ]
  },
  {
   "cell_type": "markdown",
   "metadata": {},
   "source": [
    "We see that the peaks from the 3 modes are very visible and easy to pick out. They obviously match the same frequencies as the plot of the spectrum. At the natural frequencies, we see that the first singular value is much greater (10000x or 100x) than the next singular value. This shows that one mode is dominating the response at that frequency.\n",
    "\n",
    "Next, let us plot the modes. The mode shapes are the singular vectors corresponding to the peaks."
   ]
  },
  {
   "cell_type": "code",
   "execution_count": 9,
   "metadata": {},
   "outputs": [
    {
     "data": {
      "text/plain": [
       "<matplotlib.legend.Legend at 0x16e4809e830>"
      ]
     },
     "execution_count": 9,
     "metadata": {},
     "output_type": "execute_result"
    }
   ],
   "source": [
    "# Plot mode shapes\n",
    "\n",
    "plt.figure(figsize=(5,3))   \n",
    "\n",
    "phi_all=[None]*3\n",
    "\n",
    "for k in range(3):\n",
    "    \n",
    "    phi=u1[:,peaks_index_top3[k]] # Pick singular vector corresponding to peak\n",
    "    phi=np.real(phi) # Take real part only\n",
    "    phi=phi/np.max(np.abs(phi)) # Normalize max to 1 (mode scaling)\n",
    "    phi=np.hstack((0,phi)) # Add zero value at base floor of building\n",
    "    \n",
    "    plt.plot(phi,np.arange(4),'-o',label = 'Mode '+ str(k+1))    # Plot this mode \n",
    "    \n",
    "    phi_all[k]=phi\n",
    "\n",
    "plt.xlabel('Mode amplitude')\n",
    "plt.ylabel('Floor number');\n",
    "plt.xlim(-2,2)\n",
    "plt.grid()\n",
    "plt.legend()"
   ]
  },
  {
   "cell_type": "markdown",
   "metadata": {},
   "source": [
    "We observe that the identified modes look reasonable: in mode 1, the entire building is swaying to one side. In mode 2, the first and third floor swing to opposite sides. We can try to animate the modes."
   ]
  },
  {
   "cell_type": "code",
   "execution_count": null,
   "metadata": {},
   "outputs": [],
   "source": [
    "import matplotlib.animation\n",
    "import matplotlib.pyplot as plt\n",
    "import numpy as np\n",
    "plt.rcParams[\"animation.html\"] = \"jshtml\"\n",
    "plt.rcParams['figure.dpi'] = 150  \n",
    "plt.ioff()\n",
    "\n",
    "phi_animate=phi_all[1]\n",
    "\n",
    "plt.figure(figsize=(2,2))\n",
    "fig, ax = plt.subplots()\n",
    "\n",
    "def animate(t):\n",
    "    plt.cla() # Clear axes\n",
    "    plt.plot(phi_animate*np.sin(2*np.pi*t/20)/4-1/4,np.arange(4),'-og') # Plot mode times scaling factor\n",
    "    plt.plot(phi_animate*np.sin(2*np.pi*t/20)/4+1/4,np.arange(4),'-og') \n",
    "    plt.xlim(-2,2)\n",
    "    plt.ylim(0,4)\n",
    "    \n",
    "matplotlib.animation.FuncAnimation(fig, animate, frames=50,interval=100)\n"
   ]
  },
  {
   "cell_type": "code",
   "execution_count": null,
   "metadata": {},
   "outputs": [],
   "source": []
  }
 ],
 "metadata": {
  "kernelspec": {
   "display_name": "Python 3 (ipykernel)",
   "language": "python",
   "name": "python3"
  },
  "language_info": {
   "codemirror_mode": {
    "name": "ipython",
    "version": 3
   },
   "file_extension": ".py",
   "mimetype": "text/x-python",
   "name": "python",
   "nbconvert_exporter": "python",
   "pygments_lexer": "ipython3",
   "version": "3.10.9"
  }
 },
 "nbformat": 4,
 "nbformat_minor": 4
}
