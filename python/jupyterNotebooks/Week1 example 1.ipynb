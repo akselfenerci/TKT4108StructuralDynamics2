{
 "cells": [
  {
   "cell_type": "markdown",
   "metadata": {},
   "source": [
    "# Example 1.1: What is random vibrations?\n",
    "In this example, we will discuss how stochastic vibrations are different from deterministic vibrations. The stochastic behaviour of a linear dynamic system originates from the uncertainty of the dynamic loads. If we do not know the loads, we do not know the response either. \n",
    "\n",
    "This situation is not different from what we are used to from static analysis since we rarely know the static loads precisely. We instead use what we know about the statistical properties of the static loads to determine design loads with a selected annual probability of exceedance. This approach is possible since the largest static loads will give the largest static response and associated load effect.  \n",
    "\n",
    "We use a similar approach when designing structures subjected to uncertain dynamic loads. Still, since the response depends on the instantaneous load and the load history, we need to use an approach where the load history and thus dynamic magnification are considered.\n",
    "\n",
    "This example will consider a simple two degree of freedom system subjected to deterministic (known) and stochastic (uncertain) loads. The example illustrates how stochastic and deterministic dynamic loads and vibrations are different."
   ]
  },
  {
   "cell_type": "code",
   "execution_count": 1,
   "metadata": {},
   "outputs": [],
   "source": [
    "# Import necessary packages and modules\n",
    "import numpy as np\n",
    "from scipy.linalg import eig\n",
    "from functions import *"
   ]
  },
  {
   "cell_type": "markdown",
   "metadata": {},
   "source": [
    "## Define structural properties\n",
    "We start by defining the structural properties of a two-degree of freedom dynamic system"
   ]
  },
  {
   "cell_type": "code",
   "execution_count": null,
   "metadata": {},
   "outputs": [],
   "source": []
  },
  {
   "cell_type": "code",
   "execution_count": 2,
   "metadata": {},
   "outputs": [
    {
     "name": "stdout",
     "output_type": "stream",
     "text": [
      "(2,)\n"
     ]
    }
   ],
   "source": [
    "m = 1.0 # Mass of each story\n",
    "k = 100.0 # Stiffness\n",
    "MM = np.eye(2)*m # Mass matrix\n",
    "KK = np.array(([[2, -1], [-1, 1]])) # Stiffness matrix\n",
    "# Calculate modes and frequencies\n",
    "lam,v = eig(KK,MM) #Solve eigenvalue problem using scipy \n",
    "v[:,0] = v[:,0]/np.max(v[:,0]) #Normalize the eigenvactor\n",
    "v[:,1] = v[:,1]/np.max(v[:,1])\n",
    "f = np.real(lam)**0.5/2/np.pi #Natural frequencies in Hz\n",
    "omega = f*2*np.pi # Natural frequencies in rad/s\n",
    "zeta = np.array(([[5.0, 5.0]]))/100\n",
    "omega.shape\n",
    "# Rayleigh damping\n",
    "print(omega.shape)\n",
    "#omega[0,0]*omega[0,1]\n",
    "\n",
    "#alpha1 = 2*omega[0,0]*omega[0,1]*(zeta[0,1]*omega[0,0]-zeta[0,0]*omega[0,1])/(omega[0,0]**2-omega[0,1]**2)\n",
    "\n",
    "#alpha2 = 2*(zeta[0,0]*omega[0,0]-zeta[0,1]*omega[0,1])/(omega[0,0]**2-omega[0,1]**2)\n",
    "\n",
    "\n"
   ]
  },
  {
   "cell_type": "code",
   "execution_count": null,
   "metadata": {},
   "outputs": [],
   "source": []
  }
 ],
 "metadata": {
  "kernelspec": {
   "display_name": "Python 3",
   "language": "python",
   "name": "python3"
  },
  "language_info": {
   "codemirror_mode": {
    "name": "ipython",
    "version": 3
   },
   "file_extension": ".py",
   "mimetype": "text/x-python",
   "name": "python",
   "nbconvert_exporter": "python",
   "pygments_lexer": "ipython3",
   "version": "3.7.4"
  }
 },
 "nbformat": 4,
 "nbformat_minor": 2
}
