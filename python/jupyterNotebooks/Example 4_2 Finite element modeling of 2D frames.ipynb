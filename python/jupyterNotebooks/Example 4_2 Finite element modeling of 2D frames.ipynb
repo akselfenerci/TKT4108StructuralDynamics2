{
 "cells": [
  {
   "cell_type": "markdown",
   "id": "7b088dff-f3f8-4f4b-9807-83db1c0a1dec",
   "metadata": {},
   "source": [
    "# Example 4-2: Finite element modeling of 2D frames\n",
    "\n",
    "\n",
    "We will consider a simply supported glulam beam in this example. The beam is 4 meters long, 0.05 meters wide and 0.2 meters high. The mass of the member and non-structural mass is 50 kg/m. Use two beam elements to model the beam, as shown in the figure below\n",
    "\n",
    "<img src=\".\\figures\\Fig_4_3.svg\">\n",
    "\n",
    "## Define the finite element model\n",
    "We start by defining the nodes and the elements of the finite element model by defining an array of nodes where the first column contains the node numbers, the second the $x$ coordinates, and the last column contains the $z$ coordinates. We also define elements by an array where the first column contains the element numbers. The second includes the first node, and the third the second node, while the last column can be used to define the element type is the model consists of elements with different properties."
   ]
  },
  {
   "cell_type": "code",
   "execution_count": 1,
   "id": "69e33d8a-4d65-43ae-98ab-b56c81380d9d",
   "metadata": {},
   "outputs": [
    {
     "data": {
      "text/plain": [
       "<Figure size 432x288 with 0 Axes>"
      ]
     },
     "metadata": {},
     "output_type": "display_data"
    },
    {
     "data": {
      "image/png": "[encoded data removed]",
      "text/plain": [
       "<Figure size 432x288 with 1 Axes>"
      ]
     },
     "metadata": {
      "needs_background": "light"
     },
     "output_type": "display_data"
    }
   ],
   "source": [
    "import numpy as np\n",
    "from scipy import linalg as spla\n",
    "from matplotlib import pyplot as plt\n",
    "\n",
    "nodes = np.array([[1, 0,0],\n",
    "[2, 2, 0],\n",
    "[3, 4, 0]],dtype=float)\n",
    "\n",
    "elements = np.array([[1, 1, 2, 1],\n",
    "[2, 2, 3, 1]])\n",
    "\n",
    "def plot_fe_model(nodes,elements):\n",
    "    \n",
    "    hor_size = np.max(nodes[:,1]) - np.min(nodes[:,1])\n",
    "    hor_mid = 1/2*(np.max(nodes[:,1]) + np.min(nodes[:,1]))\n",
    "    \n",
    "    vert_size = np.max(nodes[:,2]) - np.min(nodes[:,2])\n",
    "    vert_mid = 1/2*(np.max(nodes[:,2]) + np.min(nodes[:,2]))\n",
    "    \n",
    "    max_dim = np.max([hor_size,vert_size])*1.1\n",
    "    \n",
    "    plt.figure()\n",
    "    plt.show()\n",
    "    plt.plot(nodes[:,1],nodes[:,2],\"o\")\n",
    "    \n",
    "    for k in range(elements.shape[0]):\n",
    "        x1 = [nodes[nodes[:,0]==elements[k,1],1],nodes[nodes[:,0]==elements[k,2],1] ]\n",
    "        x2 = [nodes[nodes[:,0]==elements[k,1],2],nodes[nodes[:,0]==elements[k,2],2] ]\n",
    "        \n",
    "        plt.plot(x1,x2)\n",
    "        \n",
    "    plt.xlim([hor_mid-max_dim/2, hor_mid+max_dim/2])\n",
    "    plt.ylim([vert_mid-max_dim/2, vert_mid+max_dim/2])\n",
    "    plt.grid()\n",
    "    \n",
    "    #for k in range(nodes.shape[0]):\n",
    "        #plt.text(nodes[k,1],nodes[k,2], str(nodes[k,0]))\n",
    "\n",
    "plot_fe_model(nodes,elements)"
   ]
  },
  {
   "cell_type": "markdown",
   "id": "2ede3742-2aa6-4765-bc30-4ecec310bb1c",
   "metadata": {},
   "source": [
    "\n",
    "## Mass and stiffness matrices of a beam element in local and global coordinates\n",
    "\n",
    "The beam element has six degrees of freedom, and the stiffness and mass matrices in the local coordinate system are defined by\n",
    "\n",
    "<img src=\".\\figures\\Fig_4_2_1.svg\">\n",
    "                        \n",
    "$$ \\mathbf{k} = \\left[ \\begin{array}{cccccc} \n",
    "\\frac{EA}{L} & 0 & 0 & -\\frac{EA}{L} & 0 & 0 \\\\\n",
    "0 & \\frac{12EI}{L^3} & -\\frac{6EI}{L^2} & 0 & -\\frac{12EI}{L^3} & -\\frac{6EI}{L^2} \\\\\n",
    "0 & -\\frac{6EI}{L^2} & \\frac{4EI}{L} & 0 & \\frac{6EI}{L^2} & \\frac{2EI}{L} \\\\\n",
    "-\\frac{EA}{L} & 0 & 0 & \\frac{EA}{L} & 0 & 0 \\\\\n",
    "0 & -\\frac{12EI}{L^3} & \\frac{6EI}{L^2} & 0 & \\frac{12EI}{L^3} & \\frac{6EI}{L^2}  \\\\\n",
    "0 & -\\frac{6EI}{L^2}  & \\frac{2EI}{L}  & 0 & \\frac{6EI}{L^2}  & \\frac{4EI}{L}  \\\\\n",
    "\\end{array}   \\right]  $$\n",
    "\n",
    "\n",
    "$$ \\mathbf{m} = \\frac{mL}{420} \\left[ \\begin{array}{cccccc} \n",
    "140 & 0 & 0 & 70 & 0 & 0 \\\\\n",
    "0 & 156 & -22L & 0 & 54 & 13L \\\\\n",
    "0 & -22L & 4L^2 & 0 & -13L & -3L^2 \\\\\n",
    "70 & 0 & 0 & 140 & 0 & 0 \\\\\n",
    "0 & 54 & -13L & 0 & 156 & 22L  \\\\\n",
    "0 & 13L  & -3L^2  & 0 & 22L  & 4L^2 \\\\\n",
    "\\end{array}   \\right]  $$\n",
    "\n",
    "It is also necessary to obtain the stiffness and mass matrix for a beam element with an arbitrary orientation. This can be achieved by defining a transformation matrix between the local (beam element)\n",
    "and the global coordinate system.\n",
    "\n",
    "The transform can be defined considering the unit vectors defining the direction of the beam element.\n",
    "\n",
    "<img src=\".\\figures\\Fig_4_2.svg\">\n",
    "\n",
    "$$ \\bar{\\mathbf{T}}_{G2L} = \\left[ \\begin{array}{ccc} cos(\\theta) & sin(\\theta) & 0 \\\\\n",
    "                                                -sin(\\theta) & cos(\\theta) & 0 \\\\\n",
    "                                                0 & 0 & 1\\end{array}\\right]  $$\n",
    "                                                \n",
    "The transformation matrix considering all degrees of freedom of the element, becomes\n",
    "\n",
    "$$ \\mathbf{T}_{G2L} = \\left[ \\begin{array}{ccc} \\mathbf{T}_{G2L} & \\mathbf{0} \\\\\n",
    "                                                \\mathbf{0}& \\mathbf{T}_{G2L}\\end{array}\\right]  $$\n",
    "                                                \n",
    "The stiffness and mass matrix for a beam element in global coordinates can be obtained by\n",
    "\n",
    "$$ \\mathbf{k} = \\mathbf{T}^T_{G2L} \\mathbf{k} \\mathbf{T}_{G2L} $$\n",
    "\n",
    "$$ \\mathbf{m} = \\mathbf{T}^T_{G2L} \\mathbf{m} \\mathbf{T}_{G2L} $$\n",
    "\n",
    "\n"
   ]
  },
  {
   "cell_type": "code",
   "execution_count": 2,
   "id": "1573f95b-875d-4ba5-90bc-7a967a8816bf",
   "metadata": {},
   "outputs": [],
   "source": [
    "def beam_element(E,A,I,rho,x1,x2):\n",
    "    \"\"\"\n",
    "    Parameters\n",
    "    ----------\n",
    "    E : float\n",
    "        Modulus of elasticity\n",
    "    A : flat\n",
    "        section area\n",
    "    I : float\n",
    "        second moment of area\n",
    "    rho : float\n",
    "        material density\n",
    "    x1 : float\n",
    "        x,y coordinates of node 1\n",
    "    x2 : float\n",
    "        a,y coordinates of node 2\n",
    "\n",
    "    Returns\n",
    "    -------\n",
    "    k_global : float\n",
    "        element stiffness matrix is global coordinates\n",
    "    m_global : float\n",
    "        DESCRIPTION.\n",
    "        element mass matrix in global coordinates\n",
    "\n",
    "    \"\"\"\n",
    "    L = ((x2-x1) @ (x2-x1))**0.5\n",
    "    \n",
    "    EA = E*A\n",
    "    EI = E*I\n",
    "    \n",
    "    k_local = np.array([[EA/L, 0, 0, -EA/L, 0, 0],\n",
    "                        [0, 12*EI/L**3, -6*EI/L**2, 0, -12*EI/L**3, -6*EI/L**2 ],\n",
    "                        [0, -6*EI/L**2, 4*EI/L, 0, 6*EI/L**2, 2*EI/L],\n",
    "                        [-EA/L, 0, 0, EA/L, 0, 0],\n",
    "                        [0, -12*EI/L**3, 6*EI/L**2, 0, 12*EI/L**3, 6*EI/L**2],\n",
    "                        [0, -6*EI/L**2, 2*EI/L, 0, 6*EI/L**2, 4*EI/L]])\n",
    "    \n",
    "    m_local = rho*A*L/420*np.array([[140, 0, 0, 70, 0, 0],\n",
    "                        [0, 156, -22*L, 0, 54, 13*L],\n",
    "                        [0, -22*L, 4*L**2, 0, -13*L, -3*L**2],\n",
    "                        [70, 0, 0, 140, 0, 0],\n",
    "                        [0, 54, -13*L, 0, 156, 22*L],\n",
    "                        [0, 13*L, -3*L**2, 0, 22*L, 4*L**2]])\n",
    "    \n",
    "    e1 = (x2-x1)/L    \n",
    "    e2 = np.cross(np.array([0, 0, 1]),np.append(e1,0))\n",
    "    e2 = e2[0:-1]\n",
    "    \n",
    "\n",
    "    T_glob2loc = np.vstack((e1,e2))\n",
    "    T_glob2loc = spla.block_diag(T_glob2loc,1.0)\n",
    "    T_glob2loc_element = spla.block_diag(T_glob2loc,T_glob2loc)\n",
    "    \n",
    "     \n",
    "    k_global = T_glob2loc_element.T @ k_local @ T_glob2loc_element\n",
    "    m_global = T_glob2loc_element.T @ m_local @ T_glob2loc_element\n",
    "    \n",
    "    return k_global, m_global"
   ]
  },
  {
   "cell_type": "markdown",
   "id": "3ab6c050-eace-46b9-ae5f-eb934f64c59d",
   "metadata": {},
   "source": [
    "## Mass and stiffness matrix of a system of beam elements\n",
    "\n",
    "The assembly of the finite element model can be done straightforwardly by adding the contributions from each element to the system matrices. It is convenient to split the element matrices into four submatrices as follows.\n",
    "\n",
    "$$ \\mathbf{k} = \\left[ \\begin{array}{cc} \\mathbf{k}_{11} & \\mathbf{k}_{12} \\\\ \\mathbf{k}_{21} & \\mathbf{k}_{22}  \\end{array}\\right] $$\n",
    "\n",
    "The figure below shows the system mass or stiffness matrix for an element model with ten nodes. As seen in the figure, ten nodes imply that there are ten sub-matrices. Each submatrix is 3x3 for the element that we are considering. Consider an element connected to nodes 3 and 7. The four submatrices are added to the system mass or stiffness matrix, as shown in the figure. All elements are added to the system mass and stiffness one by one, following the nodal connectivity. \n",
    "                     \n",
    "<img src=\".\\figures\\Fig_4_2_2.svg\">"
   ]
  },
  {
   "cell_type": "code",
   "execution_count": 3,
   "id": "8854f8ad-adb5-42b9-992e-8603224ed78c",
   "metadata": {},
   "outputs": [],
   "source": [
    "E = 1.0e10\n",
    "A = 0.05*0.2\n",
    "I = 1/12*0.05*0.2**3\n",
    "rho = 50/A\n",
    "\n",
    "dofs_in_nodes = 3\n",
    "\n",
    "def assembly(nodes,elements,dofs_in_nodes,E,A,I,rho):\n",
    "    mass_matrix = np.zeros((nodes.shape[0]*dofs_in_nodes,nodes.shape[0]*dofs_in_nodes))\n",
    "    stiffness_matrix = np.zeros((nodes.shape[0]*dofs_in_nodes,nodes.shape[0]*dofs_in_nodes)) \n",
    "    \n",
    "    for k in range(elements.shape[0]):\n",
    "        node_index1 = np.where(nodes[:,0]==elements[k,1])[0][0]\n",
    "        node_index2 = np.where(nodes[:,0]==elements[k,2])[0][0]   \n",
    "        \n",
    "        x1 = nodes[node_index1,1:]\n",
    "        x2 = nodes[node_index2,1:]    \n",
    "        \n",
    "        k_global, m_global = beam_element(E,A,I,rho,x1,x2)\n",
    "        \n",
    "        stiffness_matrix[dofs_in_nodes*node_index1:dofs_in_nodes*(node_index1+1),dofs_in_nodes*node_index1:dofs_in_nodes*(node_index1+1)] = stiffness_matrix[dofs_in_nodes*node_index1:dofs_in_nodes*(node_index1+1),dofs_in_nodes*node_index1:dofs_in_nodes*(node_index1+1)] + k_global[0:dofs_in_nodes,0:dofs_in_nodes]\n",
    "        stiffness_matrix[dofs_in_nodes*node_index1:dofs_in_nodes*(node_index1+1),dofs_in_nodes*node_index2:dofs_in_nodes*(node_index2+1)] = stiffness_matrix[dofs_in_nodes*node_index1:dofs_in_nodes*(node_index1+1),dofs_in_nodes*node_index2:dofs_in_nodes*(node_index2+1)] + k_global[0:dofs_in_nodes,dofs_in_nodes:] \n",
    "        stiffness_matrix[dofs_in_nodes*node_index2:dofs_in_nodes*(node_index2+1),dofs_in_nodes*node_index1:dofs_in_nodes*(node_index1+1)] = stiffness_matrix[dofs_in_nodes*node_index2:dofs_in_nodes*(node_index2+1),dofs_in_nodes*node_index1:dofs_in_nodes*(node_index1+1)] + k_global[dofs_in_nodes:,0:dofs_in_nodes] \n",
    "        stiffness_matrix[dofs_in_nodes*node_index2:dofs_in_nodes*(node_index2+1),dofs_in_nodes*node_index2:dofs_in_nodes*(node_index2+1)] = stiffness_matrix[dofs_in_nodes*node_index2:dofs_in_nodes*(node_index2+1),dofs_in_nodes*node_index2:dofs_in_nodes*(node_index2+1)] + k_global[dofs_in_nodes:,dofs_in_nodes:] \n",
    "        \n",
    "        mass_matrix[dofs_in_nodes*node_index1:dofs_in_nodes*(node_index1+1),dofs_in_nodes*node_index1:dofs_in_nodes*(node_index1+1)] = mass_matrix[dofs_in_nodes*node_index1:dofs_in_nodes*(node_index1+1),dofs_in_nodes*node_index1:dofs_in_nodes*(node_index1+1)] + m_global[0:dofs_in_nodes,0:dofs_in_nodes]\n",
    "        mass_matrix[dofs_in_nodes*node_index1:dofs_in_nodes*(node_index1+1),dofs_in_nodes*node_index2:dofs_in_nodes*(node_index2+1)] = mass_matrix[dofs_in_nodes*node_index1:dofs_in_nodes*(node_index1+1),dofs_in_nodes*node_index2:dofs_in_nodes*(node_index2+1)] + m_global[0:dofs_in_nodes,dofs_in_nodes:] \n",
    "        mass_matrix[dofs_in_nodes*node_index2:dofs_in_nodes*(node_index2+1),dofs_in_nodes*node_index1:dofs_in_nodes*(node_index1+1)] = mass_matrix[dofs_in_nodes*node_index2:dofs_in_nodes*(node_index2+1),dofs_in_nodes*node_index1:dofs_in_nodes*(node_index1+1)] + m_global[dofs_in_nodes:,0:dofs_in_nodes] \n",
    "        mass_matrix[dofs_in_nodes*node_index2:dofs_in_nodes*(node_index2+1),dofs_in_nodes*node_index2:dofs_in_nodes*(node_index2+1)] = mass_matrix[dofs_in_nodes*node_index2:dofs_in_nodes*(node_index2+1),dofs_in_nodes*node_index2:dofs_in_nodes*(node_index2+1)] + m_global[dofs_in_nodes:,dofs_in_nodes:] \n",
    "        \n",
    "    return stiffness_matrix, mass_matrix\n",
    "\n",
    "stiffness_matrix, mass_matrix = assembly(nodes,elements,dofs_in_nodes,E,A,I,rho)\n",
    "        "
   ]
  },
  {
   "cell_type": "markdown",
   "id": "7bcef705-fe10-4643-a460-615f395e9cc5",
   "metadata": {},
   "source": [
    "## Boundary conditions\n",
    "\n",
    "There are several ways to introduce boundary conditions to the finite element model. A straightforward alternative is to introduce the degrees of freedom by kinematic condensation.\n",
    "\n",
    "$$ \\mathbf{v} = \\mathbf{T}_{BC} \\mathbf{v}_{BC}  $$\n",
    "\n",
    "We can start by defining the transformation matrix as the identity matrix and then delete all columns corresponding to constrained degrees of freedom. If kinematic constraints are formed by relations between the degrees of freedom, which might be the case if boundary conditions that do not follow the global coordinate system are introduced. The system matrices for the constrained finite element model can be obtained by\n",
    "\n",
    "$$ \\mathbf{K}_{BC} = \\mathbf{T}^T_{BC} \\mathbf{K} \\mathbf{T}_{BC} $$\n",
    "\n",
    "\n",
    "The beam we consider is simply supported in the left end, which implies that $v_1=v_2=0$. There is a roller bearing on the other end, but it is not aligned with the global coordinate system. The roller bearing introduces a relation between the degrees of freedom $\\frac{v_8}{v_7} = \\tan{\\theta}$\n",
    "\n",
    "<img src=\".\\figures\\Fig_4_3.svg\">\n",
    "\n",
    "The equations describing the kinematic constraints are thus defined by\n",
    "\n",
    "$$ \\left[ \\begin{array}{c} v_1  \\\\ v_2  \\\\ v_3  \\\\ v_4  \\\\ v_5  \\\\ v_6  \\\\ v_7 \\\\ v_8  \\\\ v_9 \\end{array} \\right] =\n",
    "\\left[ \\begin{array}{ccccccc} 0 & 0 & 0 & 0 & 0 & 0  \\\\\n",
    "                                                 0 & 0 & 0 & 0 & 0 & 0  \\\\\n",
    "                                                 1 & 0 & 0 & 0 & 0 & 0  \\\\\n",
    "                                                 0 & 1 & 0 & 0 & 0 & 0 \\\\\n",
    "                                                 0 & 0 & 1 & 0 & 0 & 0\\\\\n",
    "                                                 0 & 0 & 0 & 1 & 0 & 0 \\\\\n",
    "                                                 0 & 0 & 0 & 0 & \\frac{1}{\\tan{\\theta}} & 0 \\\\\n",
    "                                                 0 & 0 & 0 & 0 & 1 & 0 \\\\\n",
    "                                                 0 & 0 & 0 & 0 & 0 & 1\n",
    "                                                 \\end{array}\\right] \n",
    "                                                 \\left[ \\begin{array}{c} v_3  \\\\ v_4  \\\\ v_5  \\\\ v_6 \\\\ v_8 \\\\ v_9 \\end{array} \\right] $$\n",
    "                                                 "
   ]
  },
  {
   "cell_type": "code",
   "execution_count": 4,
   "id": "866e7875-a76d-4dc8-bdd9-404023dc918e",
   "metadata": {},
   "outputs": [],
   "source": [
    "T_BC = np.eye(nodes.shape[0]*dofs_in_nodes)\n",
    "T_BC[6,7] = 1.0/(np.tan(np.pi/4))  # remember that the first index is 0!\n",
    "T_BC = np.delete(T_BC,[0, 1 , dofs_in_nodes*2],axis=1)\n",
    "\n",
    "stiffness_matrix_bc = T_BC.T @ stiffness_matrix @ T_BC\n",
    "mass_matrix_bc = T_BC.T @ mass_matrix @ T_BC"
   ]
  },
  {
   "cell_type": "markdown",
   "id": "2ab34c07-a2a2-49bb-97e1-2a1b09203ef1",
   "metadata": {},
   "source": [
    "## Modes and frequencies\n",
    "The natural frequencies and the modes of the constrained model can be obtained by solving the eigenvalue problem"
   ]
  },
  {
   "cell_type": "code",
   "execution_count": 5,
   "id": "7376d46b-2ff0-4cf5-a8cb-b78e669b873b",
   "metadata": {},
   "outputs": [],
   "source": [
    "lam,vec = spla.eig(stiffness_matrix_bc,mass_matrix_bc)\n",
    "indx = np.argsort(lam)\n",
    "lam = lam[indx]\n",
    "\n",
    "vec = vec[:,indx]\n",
    "\n",
    "f = np.real(lam**0.5)/2/np.pi"
   ]
  },
  {
   "cell_type": "markdown",
   "id": "57cd78d0-99a7-41f7-9b80-a022c8726575",
   "metadata": {},
   "source": [
    "We can then plot the vibration modes."
   ]
  },
  {
   "cell_type": "code",
   "execution_count": 6,
   "id": "6c683d2b-3c85-4422-8eef-feefc287fb81",
   "metadata": {},
   "outputs": [
    {
     "data": {
      "image/png": "[encoded data removed]",
      "text/plain": [
       "<Figure size 432x288 with 1 Axes>"
      ]
     },
     "metadata": {
      "needs_background": "light"
     },
     "output_type": "display_data"
    }
   ],
   "source": [
    "u = T_BC @ vec[:,0]\n",
    "\n",
    "skd = 1\n",
    "\n",
    "def plot_deformed_model(nodes,elements,u,skd):\n",
    "    \n",
    "    hor_size = np.max(nodes[:,1]) - np.min(nodes[:,1])\n",
    "    hor_mid = 1/2*(np.max(nodes[:,1]) + np.min(nodes[:,1]))\n",
    "    \n",
    "    vert_size = np.max(nodes[:,2]) - np.min(nodes[:,2])\n",
    "    vert_mid = 1/2*(np.max(nodes[:,2]) + np.min(nodes[:,2]))\n",
    "    \n",
    "    max_dim = np.max([hor_size,vert_size])*1.3\n",
    "\n",
    "    nodes_deformed = np.copy(nodes)\n",
    "    nodes_deformed[:,1] = nodes_deformed[:,1]+skd*u[0::3]\n",
    "    nodes_deformed[:,2] = nodes_deformed[:,2]+skd*u[1::3]\n",
    "    plt.figure()\n",
    "    for k in range(elements.shape[0]):\n",
    "        x1 = [nodes_deformed[nodes_deformed[:,0]==elements[k,1],1],nodes_deformed[nodes_deformed[:,0]==elements[k,2],1] ]\n",
    "        x2 = [nodes_deformed[nodes_deformed[:,0]==elements[k,1],2],nodes_deformed[nodes_deformed[:,0]==elements[k,2],2] ]\n",
    "        \n",
    "        plt.plot(x1,x2)\n",
    "    plt.plot(nodes[:,1]+skd*u[0::3],nodes[:,2]+skd*u[1::3],\"o\")\n",
    "    plt.plot(nodes_deformed[:,1],nodes_deformed[:,2],\"o\")\n",
    "    \n",
    "    plt.xlim([hor_mid-max_dim/2, hor_mid+max_dim/2])\n",
    "    plt.ylim([vert_mid-max_dim/2, vert_mid+max_dim/2])\n",
    "    plt.grid()\n",
    "\n",
    "plot_deformed_model(nodes,elements,u,skd)"
   ]
  },
  {
   "cell_type": "markdown",
   "id": "ea503786-1f9a-43ea-87db-c7dce1fd4324",
   "metadata": {},
   "source": [
    "## Refine element model\n",
    "There are far too few elements in the finite element model to obtain accurate results. The element model is refined by splitting the elements by changing the nodes and element arrays. New nodes can be appended to the existing ones while we redefine all elements since the connectivity change."
   ]
  },
  {
   "cell_type": "code",
   "execution_count": 7,
   "id": "3e58bed1-d833-422b-9dc0-b400a596614e",
   "metadata": {},
   "outputs": [],
   "source": [
    "element_refine_factor = 10\n",
    "\n",
    "def refine_mesh(nodes,elements,T_BC,element_refine_factor,dofs_in_nodes):\n",
    "\n",
    "    nodes_add = np.zeros(((element_refine_factor-1)*elements.shape[0],3))    \n",
    "    nodes_add[:,0] = np.arange(0,nodes_add.shape[0])+ 10000\n",
    "    new_nodes_element = element_refine_factor-1\n",
    "    \n",
    "    refined_T_BC = spla.block_diag(T_BC,np.eye(nodes_add.shape[0]*dofs_in_nodes))\n",
    "        \n",
    "    refined_elements = np.zeros((element_refine_factor * elements.shape[0],3))    \n",
    "    refined_elements[:,0] = np.arange(1,elements.shape[0]*element_refine_factor+1)    \n",
    "    \n",
    "    for k in range(elements.shape[0]):\n",
    "        \n",
    "        refined_elements[k*element_refine_factor:(k+1)*element_refine_factor,1] = np.hstack((elements[k,1], np.arange(k*new_nodes_element,(k+1)*new_nodes_element) +10000))\n",
    "        refined_elements[k*element_refine_factor:(k+1)*element_refine_factor,2] = np.hstack(( np.arange(k*new_nodes_element,(k+1)*new_nodes_element) +10000, elements[k,2]))\n",
    "        \n",
    "        \n",
    "        node_index1 = np.where(nodes[:,0]==elements[k,1])[0][0]\n",
    "        node_index2 = np.where(nodes[:,0]==elements[k,2])[0][0] \n",
    "        \n",
    "        x1 = nodes[node_index1,1:]\n",
    "        x2 = nodes[node_index2,1:] \n",
    "        \n",
    "        nodes_add[k*new_nodes_element:(k+1)*new_nodes_element,1] = np.linspace(x1[0],x2[0],element_refine_factor+1)[1:-1]\n",
    "        nodes_add[k*new_nodes_element:(k+1)*new_nodes_element,2] = np.linspace(x1[1],x2[1],element_refine_factor+1)[1:-1]\n",
    "    \n",
    "    refined_nodes = np.vstack((nodes,nodes_add))\n",
    "    \n",
    "    return refined_nodes, refined_elements, refined_T_BC\n",
    "\n",
    "refined_nodes, refined_elements, refined_T_BC = refine_mesh(nodes,elements,T_BC,element_refine_factor,dofs_in_nodes)\n",
    "    "
   ]
  },
  {
   "cell_type": "code",
   "execution_count": 8,
   "id": "26e39f38-8e53-43b8-920a-11cdce972ad3",
   "metadata": {},
   "outputs": [
    {
     "data": {
      "text/plain": [
       "<Figure size 432x288 with 0 Axes>"
      ]
     },
     "metadata": {},
     "output_type": "display_data"
    },
    {
     "data": {
      "image/png": "[encoded data removed]",
      "text/plain": [
       "<Figure size 432x288 with 1 Axes>"
      ]
     },
     "metadata": {
      "needs_background": "light"
     },
     "output_type": "display_data"
    }
   ],
   "source": [
    "plot_fe_model(refined_nodes,refined_elements)"
   ]
  },
  {
   "cell_type": "code",
   "execution_count": 9,
   "id": "24af7e1b-803e-480e-b64b-44e46a55365c",
   "metadata": {},
   "outputs": [],
   "source": [
    "stiffness_matrix, mass_matrix = assembly(refined_nodes,refined_elements,dofs_in_nodes,E,A,I,rho)\n",
    "\n",
    "stiffness_matrix_bc = refined_T_BC.T @ stiffness_matrix @ refined_T_BC\n",
    "mass_matrix_bc = refined_T_BC.T @ mass_matrix @ refined_T_BC"
   ]
  },
  {
   "cell_type": "code",
   "execution_count": 10,
   "id": "f4103d22-a177-4af1-810d-b65cf824a03a",
   "metadata": {},
   "outputs": [],
   "source": [
    "lam,vec = spla.eig(stiffness_matrix_bc,mass_matrix_bc)\n",
    "indx = np.argsort(lam)\n",
    "lam = lam[indx]\n",
    "\n",
    "vec = vec[:,indx]\n",
    "\n",
    "f = np.real(lam**0.5)/2/np.pi"
   ]
  },
  {
   "cell_type": "code",
   "execution_count": 11,
   "id": "cb102300-e02c-4fd1-a298-cf8ca325cf68",
   "metadata": {},
   "outputs": [
    {
     "data": {
      "image/png": "[encoded data removed]",
      "text/plain": [
       "<Figure size 432x288 with 1 Axes>"
      ]
     },
     "metadata": {
      "needs_background": "light"
     },
     "output_type": "display_data"
    }
   ],
   "source": [
    "u = refined_T_BC @ vec[:,0]\n",
    "\n",
    "skd = 2\n",
    "\n",
    "plot_deformed_model(refined_nodes,refined_elements,u,skd)"
   ]
  }
 ],
 "metadata": {
  "kernelspec": {
   "display_name": "Python 3 (ipykernel)",
   "language": "python",
   "name": "python3"
  },
  "language_info": {
   "codemirror_mode": {
    "name": "ipython",
    "version": 3
   },
   "file_extension": ".py",
   "mimetype": "text/x-python",
   "name": "python",
   "nbconvert_exporter": "python",
   "pygments_lexer": "ipython3",
   "version": "3.9.12"
  }
 },
 "nbformat": 4,
 "nbformat_minor": 5
}
